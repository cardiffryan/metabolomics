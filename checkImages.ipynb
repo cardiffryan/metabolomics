{
 "cells": [
  {
   "cell_type": "code",
   "execution_count": 25,
   "metadata": {},
   "outputs": [
    {
     "name": "stdout",
     "output_type": "stream",
     "text": [
      "(92913, 121, 3)\n",
      "(92913, 121, 3)\n",
      "The images have same size and channels\n",
      "225363\n",
      "301101\n"
     ]
    }
   ],
   "source": [
    "import cv2\n",
    "import numpy as np\n",
    "original = cv2.imread(\"/home/rcardiff/PNGImages/neg_IC1.png\")\n",
    "duplicate = cv2.imread(\"/home/rcardiff/PNGImages/neg_CL10.png\")\n",
    "\n",
    "print(original.shape)\n",
    "print(duplicate.shape)\n",
    "# 1) Check if 2 images are equals\n",
    "if original.shape == duplicate.shape:\n",
    "    print(\"The images have same size and channels\")\n",
    "difference = cv2.subtract(original, duplicate)\n",
    "b, g, r = cv2.split(difference)\n",
    "if cv2.countNonZero(b) == 0 and cv2.countNonZero(g) == 0 and cv2.countNonZero(r) == 0:\n",
    "    print(\"The images are completely Equal\")\n",
    "\n",
    "white_original = np.sum(original>=200)\n",
    "white_duplicate = np.sum(duplicate>=200)\n",
    "print(white_original)\n",
    "print(white_duplicate)"
   ]
  },
  {
   "cell_type": "code",
   "execution_count": null,
   "metadata": {},
   "outputs": [],
   "source": []
  }
 ],
 "metadata": {
  "kernelspec": {
   "display_name": "Python 3",
   "language": "python",
   "name": "python3"
  },
  "language_info": {
   "codemirror_mode": {
    "name": "ipython",
    "version": 3
   },
   "file_extension": ".py",
   "mimetype": "text/x-python",
   "name": "python",
   "nbconvert_exporter": "python",
   "pygments_lexer": "ipython3",
   "version": "3.7.4"
  }
 },
 "nbformat": 4,
 "nbformat_minor": 4
}
