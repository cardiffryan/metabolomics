{
 "cells": [
  {
   "cell_type": "code",
   "execution_count": 4,
   "metadata": {},
   "outputs": [],
   "source": [
    "def image_show(image, nrows=1, ncols=1, cmap='gray'):\n",
    "    fig, ax = plt.subplots(nrows=nrows, ncols=ncols, figsize=(14, 14))\n",
    "    ax.imshow(image, cmap='gray')\n",
    "    ax.axis('off')\n",
    "    return fig, ax"
   ]
  },
  {
   "cell_type": "code",
   "execution_count": 4,
   "metadata": {},
   "outputs": [
    {
     "name": "stdout",
     "output_type": "stream",
     "text": [
      "196678\n"
     ]
    }
   ],
   "source": [
    "#Watershed on combined image region\n",
    "\n",
    "import numpy as np\n",
    "import cv2 as cv\n",
    "from matplotlib import pyplot as plt\n",
    "\n",
    "img = cv.imread('/home/rcardiff/combined_img-4.png')\n",
    "gray = cv.cvtColor(img, cv.COLOR_BGR2GRAY)\n",
    "gray_inv = np.invert(gray)\n",
    "\n",
    "kernel1 = np.array([[-1,-1, -1], [0, 0, 0], [1, 1, 1]], np.uint8)\n",
    "opening = cv.morphologyEx(gray_inv,cv.MORPH_OPEN,kernel1, iterations = 3)\n",
    "#opening = dilation. turns pixel to 1 if a pixel under the kernel is 1, increasing size of object and \n",
    "#helping connect broken objects\n",
    "\n",
    "kernel2 = np.ones((3,3),np.uint8)\n",
    "grad = cv.morphologyEx(opening,cv.MORPH_GRADIENT, kernel2, iterations =1)\n",
    "\n",
    "\n",
    "# Marker labelling\n",
    "ret, markers = cv.connectedComponents(grad)\n",
    "# Add one to all labels so that sure background is not 0, but 1\n",
    "markers = markers+1\n",
    "markers = cv.watershed(img,markers)\n",
    "#image_show(-markers[10000:15000])\n",
    "\n",
    "from skimage.measure import regionprops\n",
    "print(len(regionprops(markers)))"
   ]
  },
  {
   "cell_type": "code",
   "execution_count": null,
   "metadata": {},
   "outputs": [],
   "source": [
    "#not this one\n",
    "img = cv.imread('/home/rcardiff/combined_img-4.png')\n",
    "image_show(img[4:7,189:192])\n",
    "img2 = cv.imread('/home/rcardiff/high_res_test/neg_CL1.png')\n",
    "\n",
    "region = regionprops(markers)[2]\n",
    "print(region.bbox)\n",
    "min_mz,min_rt,max_mz,max_rt = region.bbox\n",
    "single_img_crop = img2[min_mz:max_mz,min_rt:max_rt]\n",
    "\n",
    "image_show(single_img_crop)\n",
    "image_show(img2[4:7,189:192])\n",
    "print(img[5,190])\n",
    "\n",
    "gray = cv.cvtColor(single_img_crop, cv.COLOR_BGR2GRAY)\n",
    "gray_inv = np.invert(gray)\n",
    "kernel = np.ones((3,3),np.uint8)\n",
    "new_grad = cv.morphologyEx(gray_inv,cv.MORPH_GRADIENT, kernel, iterations =1)\n",
    "\n",
    "ret, new_markers = cv.connectedComponents(new_grad)\n",
    "new_markers = new_markers+1\n",
    "new_markers = cv.watershed(single_img_crop,new_markers)\n",
    "\n",
    "print(regionprops(new_markers)[0].bbox)\n",
    "low_mz, low_rt, high_mz, high_rt = regionprops(new_markers)[0].bbox\n",
    "image_show(new_markers)\n",
    "med_mz = int((low_mz+high_mz)/2)\n",
    "med_rt = int((low_rt+high_rt)/2)\n",
    "print(single_img_crop[med_mz,med_rt])\n",
    "print(new_markers[med_mz,med_rt])"
   ]
  },
  {
   "cell_type": "code",
   "execution_count": 103,
   "metadata": {},
   "outputs": [],
   "source": [
    "#not this one\n",
    "import matplotlib.patches as mpatches\n",
    "import os\n",
    "\n",
    "directory = \"/home/rcardiff/high_res_test/\"\n",
    "os.chdir(directory)\n",
    "files = os.listdir(directory)\n",
    "\n",
    "c = 0\n",
    "feature_list = {}\n",
    "\n",
    "#for each feature (A) in combined image:\n",
    "for region in regionprops(markers):\n",
    "    min_mz, min_rt, max_mz, max_rt = region.bbox\n",
    "    if max_rt - min_rt >= 1499 or max_mz - min_mz >= 99990:\n",
    "        continue\n",
    "        \n",
    "    comb_img_features = []\n",
    "    #loop through each individual image in folder \n",
    "    for f in files:\n",
    "        if f.endswith(\".png\"):\n",
    "            img = cv.imread(f)\n",
    "            #crop individual image to look at region of feature A\n",
    "            single_img_crop = img[min_mz:max_mz,min_rt:max_rt]\n",
    "\n",
    "            #perform watershed on ROI in individual image\n",
    "            gray = cv.cvtColor(single_img_crop, cv.COLOR_BGR2GRAY)\n",
    "            gray_inv = np.invert(gray)\n",
    "            kernel = np.ones((3,3),np.uint8)\n",
    "            new_grad = cv.morphologyEx(gray_inv,cv.MORPH_GRADIENT, kernel, iterations =1)\n",
    "\n",
    "            ret, new_markers = cv.connectedComponents(new_grad)\n",
    "            new_markers = new_markers+1\n",
    "            new_markers = cv.watershed(single_img_crop,new_markers)\n",
    "\n",
    "            #for every feature in individual image that is in ROI\n",
    "            #print(len(regionprops(new_markers)))\n",
    "            #print(regionprops(new_markers)[0].bbox)\n",
    "            single_img_feature = []\n",
    "            \n",
    "            for region in regionprops(new_markers):\n",
    "                i_min_mz, i_min_rt, i_max_mz, i_max_rt = region.bbox\n",
    "                i_med_mz = (i_min_mz+i_max_mz)/2\n",
    "                i_med_rt = (i_min_rt+i_min_rt)/2\n",
    "                mz = round(150 + min_mz*.001 + (i_med_mz)*.001,4)\n",
    "                rt = round(min_rt*.02 + (i_med_rt)*.02,2)\n",
    "                i = single_img_crop[int(i_med_mz),int(i_med_rt)][0]\n",
    "                if i != 0:\n",
    "                    single_img_feature.append([mz,rt,i])\n",
    "                \n",
    "            \n",
    "            comb_img_features.append(single_img_feature)   \n",
    "    feature_list[c] = [comb_img_features]\n",
    "    c+=1\n",
    "    if c == 10:\n",
    "        break\n",
    "    "
   ]
  },
  {
   "cell_type": "code",
   "execution_count": null,
   "metadata": {},
   "outputs": [],
   "source": [
    "#individual sample featurization - V1\n",
    "\n",
    "from pyteomics import mzxml, auxiliary\n",
    "import matplotlib.patches as mpatches\n",
    "import os\n",
    "from statistics import median\n",
    "from tqdm import tqdm_notebook as tqdm\n",
    "import numpy as np\n",
    "\n",
    "directory = \"/home/rcardiff/ryan/ryan/meyer_raw_data/C18_neg/CL/\"\n",
    "os.chdir(directory)\n",
    "files = os.listdir(directory)\n",
    "\n",
    "feature_list = [{} for r in regionprops(markers)]\n",
    "\n",
    "#for each feature in combined image:\n",
    "regions = regionprops(markers)\n",
    "for r in tqdm(regions):\n",
    "    min_mz, min_rt, max_mz, max_rt = r.bbox\n",
    "    #change x,y values to mz values\n",
    "    if max_rt - min_rt >= 1499 or max_mz - min_mz >= 99990:\n",
    "        continue\n",
    "    min_mz = round(150 + min_mz*.001,4)\n",
    "    min_rt = round(min_rt*.02,2)\n",
    "    max_mz = round(150 + max_mz*.001,4)\n",
    "    max_rt = round(max_rt*.02,2)    \n",
    "    \n",
    "    sample_list = []\n",
    "    #for each sample:\n",
    "    for f in files:\n",
    "        if f.endswith(\".mzXML\"):\n",
    "            sample_val, sample_mz, sample_rt, sample_i = [], [], [], []\n",
    "            a = mzxml.read(f) \n",
    "            #for every spectra in sample:\n",
    "            for spectra in a:\n",
    "                spectra_rt = spectra.get('retentionTime')\n",
    "                if spectra_rt >= min_rt and spectra_rt <= max_rt: #if rt in range\n",
    "                    mz = spectra.get('m/z array')\n",
    "                    intensity = spectra.get('intensity array')\n",
    "\n",
    "                    for m,i in zip(mz,intensity):\n",
    "                        if m >= min_mz and m <= max_mz: #if mz in range\n",
    "                            sample_mz.append(m)\n",
    "                            sample_rt.append(spectra_rt)\n",
    "                            sample_i.append(i)\n",
    "            \n",
    "            if sample_mz: #if there is a spectra in the sample in the right range\n",
    "                sample_min_mz, sample_max_mz, sample_med_mz = min(sample_mz), max(sample_mz), median(sample_mz)\n",
    "                sample_min_rt, sample_max_rt, sample_med_rt = min(sample_rt), max(sample_rt), median(sample_rt)\n",
    "                sample_tot_i, sample_med_i = sum(sample_i), median(sample_i)\n",
    "                sample_val = [sample_min_mz, sample_max_mz, sample_med_mz, sample_min_rt, \n",
    "                           sample_max_rt, sample_med_rt, sample_tot_i, sample_med_i] #compute values for sample\n",
    "    \n",
    "            sample_list.append(sample_val) #list of each sample's values\n",
    "        \n",
    "            #print(sample_list)\n",
    "            \n",
    "    feature_list[regions.index(r)] = {\"Feature\": [min_mz,min_rt,max_mz,max_rt], \"CL1\":sample_list[0],\n",
    "                                      \"CL2\": sample_list[1], \"CL3\":sample_list[2],\"CL5\":sample_list[3],\n",
    "                                      \"CL6\":sample_list[4],\"CL7\": sample_list[5],\"CL8\":sample_list[6],\n",
    "                                      \"CL9\":sample_list[7],\"CL10\":sample_list[8],\"CL11\":sample_list[9],\n",
    "                                      \"CL14\":sample_list[10],\"CL16\":sample_list[11]}\n",
    "    #if regions.index(r) > 10:\n",
    "     #   break"
   ]
  },
  {
   "cell_type": "code",
   "execution_count": 5,
   "metadata": {},
   "outputs": [],
   "source": [
    "#individual sample featurization - V2\n",
    "\n",
    "from pyteomics import mzxml, auxiliary\n",
    "import matplotlib.patches as mpatches\n",
    "import os\n",
    "from statistics import median\n",
    "from tqdm import tqdm_notebook as tqdm\n",
    "import numpy as np\n",
    "\n",
    "feature_data = [x.bbox for x in regionprops(markers)]\n",
    "feature_list = [{} for x in regionprops(markers)]\n",
    "\n",
    "min_mzs = np.array([x[0] for x in feature_data])\n",
    "min_rts = np.array([x[1] for x in feature_data])\n",
    "max_mzs = np.array([x[2] for x in feature_data])\n",
    "max_rts = np.array([x[3] for x in feature_data])\n",
    "\n",
    "min_mzs = np.round(150.0 + (min_mzs * .001), decimals = 4)\n",
    "min_rts = np.round(min_rts * .02, decimals = 4)\n",
    "max_mzs = np.round(150.0 + (max_mzs * .001), decimals = 4)\n",
    "max_rts = np.round(max_rts * .02, decimals = 4)\n",
    "\n",
    "\n",
    "num_features = len(min_mzs)\n",
    "\n",
    "directory = \"/home/rcardiff/ryan/ryan/meyer_raw_data/C18_neg/CL/\"\n",
    "in_files = [os.path.join(directory, x) for x in os.listdir(directory) if x.endswith('.mzXML')]\n",
    "feature_list = [{} for r in regionprops(markers)]\n",
    "\n",
    "running_feature_list_mz = [[[] for f in in_files] for r in regionprops(markers)]\n",
    "running_feature_list_rt = [[[] for f in in_files] for r in regionprops(markers)]\n",
    "running_feature_list_i = [[[] for f in in_files] for r in regionprops(markers)]\n",
    "\n",
    "\n",
    "\n",
    "for fname in in_files:\n",
    "\n",
    "    \n",
    "    break\n"
   ]
  },
  {
   "cell_type": "code",
   "execution_count": 142,
   "metadata": {},
   "outputs": [
    {
     "name": "stdout",
     "output_type": "stream",
     "text": [
      "196678\n",
      "196676\n"
     ]
    }
   ],
   "source": [
    "print(len(feature_list))\n",
    "print(len(feature_data))#len(running_feature_list[0])\n",
    "#print(in_files.index(fname))\n",
    "#running_feature_list[feature][file] = rfl[x][y]"
   ]
  },
  {
   "cell_type": "code",
   "execution_count": 6,
   "metadata": {},
   "outputs": [],
   "source": [
    "file_index = in_files.index(fname)\n",
    "f_data = mzxml.read(fname)\n",
    "\n",
    "all_data =[(x['m/z array'], x['intensity array'], [float(x['retentionTime']) for y in x['m/z array']]) for x in f_data]\n",
    "\n",
    "\n",
    "mzs = np.concatenate([x[0] for x in all_data])\n",
    "intensities = np.concatenate([x[1] for x in all_data])\n",
    "rts = np.concatenate([x[2] for x in all_data])"
   ]
  },
  {
   "cell_type": "code",
   "execution_count": 116,
   "metadata": {},
   "outputs": [
    {
     "name": "stdout",
     "output_type": "stream",
     "text": [
      "196676\n"
     ]
    }
   ],
   "source": [
    "print(len(min_mzs))"
   ]
  },
  {
   "cell_type": "code",
   "execution_count": 7,
   "metadata": {},
   "outputs": [
    {
     "data": {
      "application/vnd.jupyter.widget-view+json": {
       "model_id": "bb35239198d14d278353f057572fbd45",
       "version_major": 2,
       "version_minor": 0
      },
      "text/plain": [
       "HBox(children=(IntProgress(value=1, bar_style='info', max=1), HTML(value='')))"
      ]
     },
     "metadata": {},
     "output_type": "display_data"
    }
   ],
   "source": [
    "c = 0\n",
    "for i_mz, mz in tqdm(enumerate(mzs)):\n",
    "    c+=1\n",
    "    rt = rts[i_mz]\n",
    "    intensity = intensities[i_mz]\n",
    "    \n",
    "    minSub = mz - min_mzs\n",
    "    minSub = (minSub > 0) * minSub\n",
    "    maxSub = max_mzs - mz\n",
    "    maxSub = (maxSub > 0) * maxSub\n",
    "    mzCheck = np.multiply(minSub, maxSub)\n",
    "    \n",
    "    if any(mzCheck):\n",
    "        minSub = rt - min_rts\n",
    "        minSub = (minSub > 0) * minSub\n",
    "        maxSub = max_rts - rt\n",
    "        maxSub = (maxSub > 0) * maxSub\n",
    "        rtCheck = np.multiply(minSub, maxSub)\n",
    "        allCheck = np.multiply(mzCheck, rtCheck)\n",
    "    \n",
    "        if any(allCheck):\n",
    "            for index in np.nonzero(allCheck)[0]:\n",
    "                running_feature_list_mz[index][file_index].append(mz)\n",
    "                running_feature_list_rt[index][file_index].append(rt)\n",
    "                running_feature_list_i[index][file_index].append(intensity)\n",
    "        \n",
    "        if c >= 10000:\n",
    "            break"
   ]
  },
  {
   "cell_type": "code",
   "execution_count": 123,
   "metadata": {},
   "outputs": [],
   "source": [
    "for i,ft in enumerate(running_feature_list_mz):\n",
    "    min_mz, min_rt, max_mz, max_rt = min_mzs[i],min_rts[i], max_mzs[i], max_rts[i]\n",
    "    break"
   ]
  },
  {
   "cell_type": "code",
   "execution_count": 137,
   "metadata": {},
   "outputs": [
    {
     "name": "stdout",
     "output_type": "stream",
     "text": [
      "196678\n",
      "196676\n"
     ]
    }
   ],
   "source": [
    "print(len(running_feature_list_mz))\n",
    "print(len(min_mzs))"
   ]
  },
  {
   "cell_type": "code",
   "execution_count": 17,
   "metadata": {},
   "outputs": [
    {
     "data": {
      "application/vnd.jupyter.widget-view+json": {
       "model_id": "23fdeb54e70b43e9859144afa007782d",
       "version_major": 2,
       "version_minor": 0
      },
      "text/plain": [
       "HBox(children=(IntProgress(value=1, bar_style='info', max=1), HTML(value='')))"
      ]
     },
     "metadata": {},
     "output_type": "display_data"
    }
   ],
   "source": [
    "from statistics import mean,median\n",
    "\n",
    "for i,ft in tqdm(enumerate(running_feature_list_mz)): #for every feature\n",
    "    min_mz, min_rt, max_mz, max_rt = min_mzs[i],min_rts[i], max_mzs[i], max_rts[i]\n",
    "    if max_rt - min_rt >= 1499 or max_mz - min_mz >= 99990:\n",
    "        continue\n",
    "    sample_list = []\n",
    "    \n",
    "    for j,file in enumerate(ft): #for each file\n",
    "        sample_val = []\n",
    "        if file:\n",
    "            sample_min_mz, sample_max_mz, sample_med_mz = min(file), max(file), median(file)\n",
    "            rt_list = running_feature_list_rt[i][j]\n",
    "            i_list = running_feature_list_i[i][j]\n",
    "            sample_min_rt, sample_max_rt, sample_med_rt = min(rt_list), max(rt_list), median(rt_list)\n",
    "            sample_tot_i, sample_mean_i = sum(i_list), mean(i_list)\n",
    "        \n",
    "            sample_val = [sample_min_mz, sample_max_mz, sample_med_mz, sample_min_rt, \n",
    "                        sample_max_rt, sample_med_rt, sample_tot_i, sample_mean_i] #compute values for sample\n",
    "    \n",
    "        sample_list.append(sample_val)\n",
    "        \n",
    "    feature_list[i] = {\"Feature ID\": \"FT\"+str(i), \"FT med mz\":median([min_mz, max_mz]), \"FT min mz\": min_mz, \"FT max mz\": max_mz,\n",
    "                                       \"FT med rt\": median([min_rt,max_rt]), \"FT min rt\": min_rt, \"FT max rt\": max_rt, \n",
    "                                       \"CL1\":sample_list[0],\n",
    "                                      \"CL2\": sample_list[1], \"CL3\":sample_list[2],\"CL5\":sample_list[3],\n",
    "                                      \"CL6\":sample_list[4],\"CL7\": sample_list[5],\"CL8\":sample_list[6],\n",
    "                                      \"CL9\":sample_list[7],\"CL10\":sample_list[8],\"CL11\":sample_list[9],\n",
    "                                      \"CL14\":sample_list[10],\"CL16\":sample_list[11]}\n",
    "    "
   ]
  },
  {
   "cell_type": "code",
   "execution_count": 150,
   "metadata": {},
   "outputs": [],
   "source": [
    "import csv\n",
    "directory = \"/home/rcardiff/high_res_test/\"\n",
    "os.chdir(directory)\n",
    "\n",
    "keys = feature_list[2].keys()\n",
    "#keys = feature_list[0].keys()\n",
    "#keys = [\"Feature\", \"CL1\", \"CL2\", \"CL3\",\"CL5\",\"CL6\",\"CL7\",\"CL8\",\"CL9\",\"CL10\",\"CL11\",\"CL14\",\"CL16\"]\n",
    "\n",
    "with open('feature_full_NEWTEST.csv', 'w') as f:\n",
    "    dict_writer = csv.DictWriter(f, keys)\n",
    "    dict_writer.writeheader()\n",
    "    dict_writer.writerows(feature_list[2:])"
   ]
  },
  {
   "cell_type": "code",
   "execution_count": 30,
   "metadata": {},
   "outputs": [],
   "source": [
    "import pickle\n",
    "\n",
    "#Write to pickle\n",
    "filename = 'pickle'\n",
    "outfile = open(filename, 'wb')\n",
    "pickle.dump(feature_list,outfile)\n",
    "outfile.close()\n",
    "\n",
    "#Open pickle\n",
    "#infile = open(filename,'rb')\n",
    "#new_dict = pickle.load(infile)\n",
    "#infile.close()\n",
    "\n",
    "#Compress\n",
    "import bz2\n",
    "sfile = bz2.BZ2File('smallfile','w')\n",
    "pickle.dump(feature_list,sfile)"
   ]
  },
  {
   "cell_type": "code",
   "execution_count": 28,
   "metadata": {},
   "outputs": [
    {
     "ename": "TypeError",
     "evalue": "'<' not supported between instances of 'dict' and 'dict'",
     "output_type": "error",
     "traceback": [
      "\u001b[0;31m---------------------------------------------------------------------------\u001b[0m",
      "\u001b[0;31mTypeError\u001b[0m                                 Traceback (most recent call last)",
      "\u001b[0;32m<ipython-input-28-947649144abb>\u001b[0m in \u001b[0;36m<module>\u001b[0;34m\u001b[0m\n\u001b[1;32m     10\u001b[0m     \u001b[0mdict_writer\u001b[0m \u001b[0;34m=\u001b[0m \u001b[0mcsv\u001b[0m\u001b[0;34m.\u001b[0m\u001b[0mDictWriter\u001b[0m\u001b[0;34m(\u001b[0m\u001b[0mf\u001b[0m\u001b[0;34m,\u001b[0m \u001b[0msummary\u001b[0m\u001b[0;34m)\u001b[0m\u001b[0;34m\u001b[0m\u001b[0;34m\u001b[0m\u001b[0m\n\u001b[1;32m     11\u001b[0m     \u001b[0mdict_writer\u001b[0m\u001b[0;34m.\u001b[0m\u001b[0mwriteheader\u001b[0m\u001b[0;34m(\u001b[0m\u001b[0;34m)\u001b[0m\u001b[0;34m\u001b[0m\u001b[0;34m\u001b[0m\u001b[0m\n\u001b[0;32m---> 12\u001b[0;31m     \u001b[0msubList\u001b[0m \u001b[0;34m=\u001b[0m \u001b[0;34m(\u001b[0m \u001b[0;34m{\u001b[0m \u001b[0mkey\u001b[0m\u001b[0;34m:\u001b[0m\u001b[0mvalue\u001b[0m \u001b[0;32mfor\u001b[0m \u001b[0mkey\u001b[0m\u001b[0;34m,\u001b[0m\u001b[0mvalue\u001b[0m \u001b[0;32min\u001b[0m \u001b[0mx\u001b[0m\u001b[0;34m.\u001b[0m\u001b[0mitems\u001b[0m\u001b[0;34m(\u001b[0m\u001b[0;34m)\u001b[0m \u001b[0;32mif\u001b[0m \u001b[0mkey\u001b[0m \u001b[0;32min\u001b[0m \u001b[0msummary\u001b[0m\u001b[0;34m}\u001b[0m \u001b[0;32mfor\u001b[0m \u001b[0mx\u001b[0m \u001b[0;32min\u001b[0m \u001b[0msorted\u001b[0m\u001b[0;34m(\u001b[0m\u001b[0mfeature_list\u001b[0m\u001b[0;34m[\u001b[0m\u001b[0;36m2\u001b[0m\u001b[0;34m:\u001b[0m\u001b[0;34m]\u001b[0m\u001b[0;34m)\u001b[0m \u001b[0;34m)\u001b[0m\u001b[0;34m\u001b[0m\u001b[0;34m\u001b[0m\u001b[0m\n\u001b[0m\u001b[1;32m     13\u001b[0m     \u001b[0mdict_writer\u001b[0m\u001b[0;34m.\u001b[0m\u001b[0mwriterows\u001b[0m\u001b[0;34m(\u001b[0m\u001b[0msubList\u001b[0m\u001b[0;34m)\u001b[0m\u001b[0;34m\u001b[0m\u001b[0;34m\u001b[0m\u001b[0m\n",
      "\u001b[0;31mTypeError\u001b[0m: '<' not supported between instances of 'dict' and 'dict'"
     ]
    }
   ],
   "source": [
    "import csv\n",
    "directory = \"/home/rcardiff/high_res_test/\"\n",
    "os.chdir(directory)\n",
    "\n",
    "summary = {\"Feature ID\", \"FT med mz\", \"FT min mz\", \"FT max mz\", \"FT med rt\", \"FT min rt\", \"FT max rt\"}\n",
    "#subList = { key:value for key,value in feature_list[2].items() if key in summary}\n",
    "#print(subList)\n",
    "\n",
    "with open('summary_test.csv', 'w') as f:\n",
    "    dict_writer = csv.DictWriter(f, summary)\n",
    "    dict_writer.writeheader()\n",
    "    subList = ( { key:value for key,value in x.items() if key in summary} for x in feature_list[2:] )\n",
    "    dict_writer.writerows(subList)"
   ]
  },
  {
   "cell_type": "markdown",
   "metadata": {},
   "source": [
    "[{\"feature\": [min_mz,min_rt,max_mz,max_rt],\"CL1\":[min_mz,max_mz,med_mz,min_rt,max_rt,med_rt,tot_i,med_i], \n",
    "  \"CL2\": [] }, {\"feature\": ...}, ...] \n",
    "\n",
    "-list of dict of list\n",
    "\n",
    "-improve run time!!!\n",
    "-improve formatting of csv... do we want 4+(12x8) columns? vs. 1+(12) but pretty unintelligible \n",
    "    -change by making the value for each dict a list of dicts:\n",
    "    {\"Feature\": {\"min_mz\": min_mz,...},\"CL1\": {\"min_mz\": sample_list[0][0], \"max_mz\": sample_list[0][1]...}, \"CL2\":{...},...}\n",
    "    -How to write this to CSV??\n",
    "    \n",
    "-thinking about beginning to group very like features"
   ]
  },
  {
   "cell_type": "code",
   "execution_count": 50,
   "metadata": {},
   "outputs": [
    {
     "data": {
      "application/vnd.jupyter.widget-view+json": {
       "model_id": "16866bfb012a4ea6b0fe23e215505c4a",
       "version_major": 2,
       "version_minor": 0
      },
      "text/plain": [
       "HBox(children=(IntProgress(value=0, max=196678), HTML(value='')))"
      ]
     },
     "metadata": {},
     "output_type": "display_data"
    }
   ],
   "source": [
    "from pyteomics import mzxml, auxiliary\n",
    "import matplotlib.patches as mpatches\n",
    "import os\n",
    "from statistics import median\n",
    "from tqdm import tqdm_notebook as tqdm\n",
    "\n",
    "directory = \"/home/rcardiff/ryan/ryan/meyer_raw_data/C18_neg/CL/\"\n",
    "os.chdir(directory)\n",
    "files = os.listdir(directory)\n",
    "\n",
    "feature_list = [{} for r in regionprops(markers)]\n",
    "\n",
    "#for each feature in combined image:\n",
    "regions = regionprops(markers)\n",
    "for r in tqdm(regions):\n",
    "    min_mz, min_rt, max_mz, max_rt = r.bbox\n",
    "    #change x,y values to mz values\n",
    "    if max_rt - min_rt >= 1499 or max_mz - min_mz >= 99990:\n",
    "        continue\n",
    "    min_mz = round(150 + min_mz*.001,4)\n",
    "    min_rt = round(min_rt*.02,2)\n",
    "    max_mz = round(150 + max_mz*.001,4)\n",
    "    max_rt = round(max_rt*.02,2)    \n",
    "    \n",
    "    sample_list = []\n",
    "    #for each sample:\n",
    "    for f in files:\n",
    "        if f.endswith(\".mzXML\"):\n",
    "            sample_val, sample_mz, sample_rt, sample_i = [], [], [], []\n",
    "            a = mzxml.read(f) \n",
    "            #for every spectra in sample:\n",
    "            for spectra in a:\n",
    "                spectra_rt = spectra.get('retentionTime')\n",
    "                if spectra_rt >= min_rt and spectra_rt <= max_rt: #if rt in range\n",
    "                    mz = spectra.get('m/z array')\n",
    "                    intensity = spectra.get('intensity array')\n",
    "\n",
    "                    for m,i in zip(mz,intensity):\n",
    "                        if m >= min_mz and m <= max_mz: #if mz in range\n",
    "                            sample_mz.append(m)\n",
    "                            sample_rt.append(spectra_rt)\n",
    "                            sample_i.append(i)\n",
    "            \n",
    "            if sample_mz: #if there is a spectra in the sample in the right range\n",
    "                sample_min_mz, sample_max_mz, sample_med_mz = min(sample_mz), max(sample_mz), median(sample_mz)\n",
    "                sample_min_rt, sample_max_rt, sample_med_rt = min(sample_rt), max(sample_rt), median(sample_rt)\n",
    "                sample_tot_i, sample_med_i = sum(sample_i), median(sample_i)\n",
    "                sample_val = [sample_min_mz, sample_max_mz, sample_med_mz, sample_min_rt, \n",
    "                           sample_max_rt, sample_med_rt, sample_tot_i, sample_med_i] #compute values for sample\n",
    "            else:\n",
    "                sample_val = [[],[],[],[],[],[],[],[]]\n",
    "            sample_list.append(sample_val) #list of each sample's values\n",
    "        \n",
    "    #feature_list[regions.index(r)] = { \n",
    "     #                                 \"Feature\": {\"min_mz\":min_mz,\"min_rt\":min_rt,\"max_mz\":max_mz,\"max_rt\":max_rt}, \n",
    "      #                                \"CL1\":{\"min_mz\":sample_list[0][0],\"max_mz\":sample_list[0][1],\"med_mz\":sample_list[0][2],\"min_rt\":sample_list[0][3],\"max_rt\":sample_list[0][4],\"med_rt\":sample_list[0][5], \"tot_i\":sample_list[0][6], \"med_i\":sample_list[0][7]},\n",
    "       #                               \"CL2\": {\"min_mz\":sample_list[1][0],\"max_mz\":sample_list[1][1],\"med_mz\":sample_list[1][2],\"min_rt\":sample_list[1][3],\"max_rt\":sample_list[0][4],\"med_rt\":sample_list[1][5], \"tot_i\":sample_list[1][6], \"med_i\":sample_list[1][7]},\n",
    "        #                              \"CL3\":{\"min_mz\":sample_list[2][0],\"max_mz\":sample_list[2][1],\"med_mz\":sample_list[2][2],\"min_rt\":sample_list[2][3],\"max_rt\":sample_list[2][4],\"med_rt\":sample_list[2][5], \"tot_i\":sample_list[2][6], \"med_i\":sample_list[2][7]},\n",
    "         #                             \"CL5\":{\"min_mz\":sample_list[3][0],\"max_mz\":sample_list[3][1],\"med_mz\":sample_list[3][2],\"min_rt\":sample_list[3][3],\"max_rt\":sample_list[3][4],\"med_rt\":sample_list[3][5], \"tot_i\":sample_list[3][6], \"med_i\":sample_list[3][7]},\n",
    "          #                            \"CL6\":{\"min_mz\":sample_list[4][0],\"max_mz\":sample_list[4][1],\"med_mz\":sample_list[4][2],\"min_rt\":sample_list[4][3],\"max_rt\":sample_list[4][4],\"med_rt\":sample_list[4][5], \"tot_i\":sample_list[4][6], \"med_i\":sample_list[4][7]},\n",
    "           #                           \"CL7\": {\"min_mz\":sample_list[5][0],\"max_mz\":sample_list[5][1],\"med_mz\":sample_list[5][2],\"min_rt\":sample_list[5][3],\"max_rt\":sample_list[5][4],\"med_rt\":sample_list[5][5], \"tot_i\":sample_list[5][6], \"med_i\":sample_list[5][7]},\n",
    "            #                          \"CL8\":{\"min_mz\":sample_list[6][0],\"max_mz\":sample_list[6][1],\"med_mz\":sample_list[6][2],\"min_rt\":sample_list[6][3],\"max_rt\":sample_list[6][4],\"med_rt\":sample_list[6][5], \"tot_i\":sample_list[6][6], \"med_i\":sample_list[6][7]},\n",
    "             #                         \"CL9\":{\"min_mz\":sample_list[7][0],\"max_mz\":sample_list[7][1],\"med_mz\":sample_list[7][2],\"min_rt\":sample_list[7][3],\"max_rt\":sample_list[7][4],\"med_rt\":sample_list[7][5], \"tot_i\":sample_list[7][6], \"med_i\":sample_list[7][7]},\n",
    "              #                        \"CL10\":{\"min_mz\":sample_list[8][0],\"max_mz\":sample_list[8][1],\"med_mz\":sample_list[8][2],\"min_rt\":sample_list[8][3],\"max_rt\":sample_list[8][4],\"med_rt\":sample_list[8][5], \"tot_i\":sample_list[8][6], \"med_i\":sample_list[8][7]},\n",
    "               #                       \"CL11\":{\"min_mz\":sample_list[9][0],\"max_mz\":sample_list[9][1],\"med_mz\":sample_list[9][2],\"min_rt\":sample_list[9][3],\"max_rt\":sample_list[9][4],\"med_rt\":sample_list[9][5], \"tot_i\":sample_list[9][6], \"med_i\":sample_list[9][7]},\n",
    "                #                      \"CL14\":{\"min_mz\":sample_list[10][0],\"max_mz\":sample_list[10][1],\"med_mz\":sample_list[10][2],\"min_rt\":sample_list[10][3],\"max_rt\":sample_list[10][4],\"med_rt\":sample_list[10][5], \"tot_i\":sample_list[10][6], \"med_i\":sample_list[10][7]},\n",
    "                 #                     \"CL16\":{\"min_mz\":sample_list[11][0],\"max_mz\":sample_list[11][1],\"med_mz\":sample_list[11][2],\"min_rt\":sample_list[11][3],\"max_rt\":sample_list[11][4],\"med_rt\":sample_list[11][5], \"tot_i\":sample_list[11][6], \"med_i\":sample_list[11][7]}   \n",
    "                  #                    }\n",
    "    feature_list[regions.index(r)] = {\"Feature min_mz\":min_mz,\"Feature min_rt\":min_rt,\"Feature max_mz\":max_mz,\"Feature max_rt\":max_rt, \n",
    "                                      \"CL1 min_mz\":sample_list[0][0],\"CL1 max_mz\":sample_list[0][1],\"CL1 med_mz\":sample_list[0][2],\"CL1 min_rt\":sample_list[0][3],\"CL1 max_rt\":sample_list[0][4],\"CL1 med_rt\":sample_list[0][5], \"CL1 tot_i\":sample_list[0][6], \"CL1 med_i\":sample_list[0][7],\n",
    "                                      \"CL2 min_mz\":sample_list[1][0],\"CL2 max_mz\":sample_list[1][1],\"CL2 med_mz\":sample_list[1][2],\"CL2 min_rt\":sample_list[1][3],\"CL2 max_rt\":sample_list[0][4],\"CL2 med_rt\":sample_list[1][5], \"CL2 tot_i\":sample_list[1][6], \"CL2 med_i\":sample_list[1][7],\n",
    "                                      \"CL3 min_mz\":sample_list[2][0],\"CL3 max_mz\":sample_list[2][1],\"CL3 med_mz\":sample_list[2][2],\"CL3 min_rt\":sample_list[2][3],\"CL3 max_rt\":sample_list[2][4],\"CL3 med_rt\":sample_list[2][5], \"CL3 tot_i\":sample_list[2][6], \"CL3 med_i\":sample_list[2][7],\n",
    "                                      \"CL5 min_mz\":sample_list[3][0],\"CL5 max_mz\":sample_list[3][1],\"CL5 med_mz\":sample_list[3][2],\"CL5 min_rt\":sample_list[3][3],\"CL5 max_rt\":sample_list[3][4],\"CL5 med_rt\":sample_list[3][5], \"CL5 tot_i\":sample_list[3][6], \"CL5 med_i\":sample_list[3][7],\n",
    "                                      \"CL6 min_mz\":sample_list[4][0],\"CL6 max_mz\":sample_list[4][1],\"CL6 med_mz\":sample_list[4][2],\"CL6 min_rt\":sample_list[4][3],\"CL6 max_rt\":sample_list[4][4],\"CL6 med_rt\":sample_list[4][5], \"CL6 tot_i\":sample_list[4][6], \"CL6 med_i\":sample_list[4][7],\n",
    "                                      \"CL7 min_mz\":sample_list[5][0],\"CL7 max_mz\":sample_list[5][1],\"CL7 med_mz\":sample_list[5][2],\"CL7 min_rt\":sample_list[5][3],\"CL7 max_rt\":sample_list[5][4],\"CL7 med_rt\":sample_list[5][5], \"CL7 tot_i\":sample_list[5][6], \"CL7 med_i\":sample_list[5][7],\n",
    "                                      \"CL8 min_mz\":sample_list[6][0],\"CL8 max_mz\":sample_list[6][1],\"CL8 med_mz\":sample_list[6][2],\"CL8 min_rt\":sample_list[6][3],\"CL8 max_rt\":sample_list[6][4],\"CL8 med_rt\":sample_list[6][5], \"CL8 tot_i\":sample_list[6][6], \"CL8 med_i\":sample_list[6][7],\n",
    "                                      \"CL9 min_mz\":sample_list[7][0],\"CL9 max_mz\":sample_list[7][1],\"CL9 med_mz\":sample_list[7][2],\"CL9 min_rt\":sample_list[7][3],\"CL9 max_rt\":sample_list[7][4],\"CL9 med_rt\":sample_list[7][5], \"CL9 tot_i\":sample_list[7][6], \"CL9 med_i\":sample_list[7][7],\n",
    "                                      \"CL10 min_mz\":sample_list[8][0],\"CL10 max_mz\":sample_list[8][1],\"CL10 med_mz\":sample_list[8][2],\"CL10 min_rt\":sample_list[8][3],\"CL10 max_rt\":sample_list[8][4],\"CL10 med_rt\":sample_list[8][5], \"CL10 tot_i\":sample_list[8][6], \"CL10 med_i\":sample_list[8][7],\n",
    "                                      \"CL11 min_mz\":sample_list[9][0],\"CL11 max_mz\":sample_list[9][1],\"CL11 med_mz\":sample_list[9][2],\"CL11 min_rt\":sample_list[9][3],\"CL11 max_rt\":sample_list[9][4],\"CL11 med_rt\":sample_list[9][5], \"CL11 tot_i\":sample_list[9][6], \"CL11 med_i\":sample_list[9][7],\n",
    "                                      \"CL14 min_mz\":sample_list[10][0],\"CL14 max_mz\":sample_list[10][1],\"CL14 med_mz\":sample_list[10][2],\"CL14 min_rt\":sample_list[10][3],\"CL14 max_rt\":sample_list[10][4],\"CL14 med_rt\":sample_list[10][5], \"CL14 tot_i\":sample_list[10][6], \"CL14 med_i\":sample_list[10][7],\n",
    "                                      \"CL16 min_mz\":sample_list[11][0],\"CL16 max_mz\":sample_list[11][1],\"CL16 med_mz\":sample_list[11][2],\"CL16 min_rt\":sample_list[11][3],\"CL16 max_rt\":sample_list[11][4],\"CL16 med_rt\":sample_list[11][5], \"CL16 tot_i\":sample_list[11][6], \"CL16 med_i\":sample_list[11][7]   \n",
    "                                      }\n",
    "    if regions.index(r) > 10:\n",
    "        break"
   ]
  },
  {
   "cell_type": "code",
   "execution_count": null,
   "metadata": {},
   "outputs": [],
   "source": [
    "keys = [\"Feature\", \"CL1\", \"CL2\", \"CL3\",\"CL5\",\"CL6\",\"CL7\",\"CL8\",\"CL9\",\"CL10\",\"CL11\",\"CL14\",\"CL16\"]\n",
    "sample_list = [[], [], [], [], [], [], [], [150.0049052782952, 150.0049052782952, 150.0049052782952, 16.364383333333333, 16.364383333333333, 16.364383333333333, 200.65719604492188, 200.65719604492188], [], [], [], []]\n",
    "print(sample_list[7][1])\n",
    "keys= (sample_list[0][i] for i in range(2))\n",
    "#dict = {keys[i]:sample_list[0][i] for i in range (7)}\n",
    "print(keys)"
   ]
  },
  {
   "cell_type": "code",
   "execution_count": 47,
   "metadata": {},
   "outputs": [],
   "source": [
    "import csv\n",
    "import itertools\n",
    "import sys\n",
    "directory = \"/home/rcardiff/high_res_test/\"\n",
    "os.chdir(directory)\n",
    "\n",
    "\n",
    "feat = feature_list[2]\n",
    "fields = ['Feature', 'min_mz', 'min_rt','max_mz','max_rt','med_mz',\"med_rt\",\"tot_i\",\"med_i\",\"CL1\", \"CL2\", \"CL3\",\"CL5\",\"CL6\",\"CL7\",\"CL8\",\"CL9\",\"CL10\",\"CL11\",\"CL14\",\"CL16\" ]\n",
    "\n",
    "with open(\"test_output.csv\", \"w\") as f:\n",
    "    w = csv.DictWriter( f, fields )\n",
    "    w.writeheader()\n",
    "    for key,val in sorted(feat.items()):\n",
    "        row = {'Feature': key}\n",
    "        row.update(val)\n",
    "        w.writerow(row)"
   ]
  },
  {
   "cell_type": "code",
   "execution_count": 49,
   "metadata": {},
   "outputs": [],
   "source": []
  },
  {
   "cell_type": "code",
   "execution_count": null,
   "metadata": {},
   "outputs": [],
   "source": []
  }
 ],
 "metadata": {
  "kernelspec": {
   "display_name": "Python 3",
   "language": "python",
   "name": "python3"
  },
  "language_info": {
   "codemirror_mode": {
    "name": "ipython",
    "version": 3
   },
   "file_extension": ".py",
   "mimetype": "text/x-python",
   "name": "python",
   "nbconvert_exporter": "python",
   "pygments_lexer": "ipython3",
   "version": "3.6.7"
  }
 },
 "nbformat": 4,
 "nbformat_minor": 2
}
