{
 "cells": [
  {
   "cell_type": "code",
   "execution_count": 20,
   "metadata": {},
   "outputs": [
    {
     "name": "stdout",
     "output_type": "stream",
     "text": [
      "196678\n"
     ]
    }
   ],
   "source": [
    "#Watershed on combined image region\n",
    "\n",
    "import numpy as np\n",
    "import cv2 as cv\n",
    "from matplotlib import pyplot as plt\n",
    "\n",
    "img = cv.imread('/home/rcardiff/combined_img-4.png')\n",
    "gray = cv.cvtColor(img, cv.COLOR_BGR2GRAY)\n",
    "gray_inv = np.invert(gray)\n",
    "\n",
    "kernel1 = np.array([[-1,-1, -1], [0, 0, 0], [1, 1, 1]], np.uint8)\n",
    "opening = cv.morphologyEx(gray_inv,cv.MORPH_OPEN,kernel1, iterations = 3)\n",
    "#opening = dilation. turns pixel to 1 if a pixel under the kernel is 1, increasing size of object and \n",
    "#helping connect broken objects\n",
    "\n",
    "kernel2 = np.ones((3,3),np.uint8)\n",
    "grad = cv.morphologyEx(opening,cv.MORPH_GRADIENT, kernel2, iterations =1)\n",
    "\n",
    "\n",
    "# Marker labelling\n",
    "ret, markers = cv.connectedComponents(grad)\n",
    "# Add one to all labels so that sure background is not 0, but 1\n",
    "markers = markers+1\n",
    "markers = cv.watershed(img,markers)\n",
    "\n",
    "from skimage.measure import regionprops\n",
    "print(len(regionprops(markers)))"
   ]
  },
  {
   "cell_type": "code",
   "execution_count": 62,
   "metadata": {},
   "outputs": [],
   "source": [
    "from pyteomics import mzxml, auxiliary\n",
    "import matplotlib.patches as mpatches\n",
    "import os\n",
    "from statistics import median\n",
    "from tqdm import tqdm_notebook as tqdm\n",
    "import numpy as np\n",
    "\n",
    "feature_data = [x.bbox for x in regionprops(markers)]\n",
    "feature_list = [{} for x in regionprops(markers)]\n",
    "\n",
    "min_mzs = np.array([x[0] for x in feature_data])\n",
    "min_rts = np.array([x[1] for x in feature_data])\n",
    "max_mzs = np.array([x[2] for x in feature_data])\n",
    "max_rts = np.array([x[3] for x in feature_data])\n",
    "\n",
    "min_mzs = np.round(150.0 + (min_mzs * .001), decimals = 4)\n",
    "min_rts = np.round(min_rts * .02, decimals = 4)\n",
    "max_mzs = np.round(150.0 + (max_mzs * .001), decimals = 4)\n",
    "max_rts = np.round(max_rts * .02, decimals = 4)\n",
    "\n",
    "\n",
    "num_features = len(min_mzs)\n",
    "\n",
    "directory = \"/home/rcardiff/ryan/ryan/meyer_raw_data/C18_neg/CL/\"\n",
    "in_files = [os.path.join(directory, x) for x in os.listdir(directory) if x.endswith('.mzXML')]\n",
    "feature_list = [{} for r in regionprops(markers)]\n",
    "\n",
    "#2D lists with (number files) x (number features) dimensions\n",
    "running_feature_list_mz = [[[] for f in in_files] for r in regionprops(markers)]\n",
    "running_feature_list_rt = [[[] for f in in_files] for r in regionprops(markers)]\n",
    "running_feature_list_i = [[[] for f in in_files] for r in regionprops(markers)]\n",
    "\n"
   ]
  },
  {
   "cell_type": "code",
   "execution_count": 63,
   "metadata": {},
   "outputs": [
    {
     "data": {
      "application/vnd.jupyter.widget-view+json": {
       "model_id": "727559e933ad47df92c256dee760efed",
       "version_major": 2,
       "version_minor": 0
      },
      "text/plain": [
       "HBox(children=(IntProgress(value=0, max=1687980), HTML(value='')))"
      ]
     },
     "metadata": {},
     "output_type": "display_data"
    },
    {
     "ename": "KeyboardInterrupt",
     "evalue": "",
     "output_type": "error",
     "traceback": [
      "\u001b[0;31m---------------------------------------------------------------------------\u001b[0m",
      "\u001b[0;31mKeyboardInterrupt\u001b[0m                         Traceback (most recent call last)",
      "\u001b[0;32m<ipython-input-63-54c59e6c26c0>\u001b[0m in \u001b[0;36m<module>\u001b[0;34m\u001b[0m\n\u001b[1;32m     23\u001b[0m         \u001b[0mmzCheck\u001b[0m \u001b[0;34m=\u001b[0m \u001b[0mnp\u001b[0m\u001b[0;34m.\u001b[0m\u001b[0mmultiply\u001b[0m\u001b[0;34m(\u001b[0m\u001b[0mminSub\u001b[0m\u001b[0;34m,\u001b[0m \u001b[0mmaxSub\u001b[0m\u001b[0;34m)\u001b[0m\u001b[0;34m\u001b[0m\u001b[0;34m\u001b[0m\u001b[0m\n\u001b[1;32m     24\u001b[0m \u001b[0;34m\u001b[0m\u001b[0m\n\u001b[0;32m---> 25\u001b[0;31m         \u001b[0;32mif\u001b[0m \u001b[0many\u001b[0m\u001b[0;34m(\u001b[0m\u001b[0mmzCheck\u001b[0m\u001b[0;34m)\u001b[0m\u001b[0;34m:\u001b[0m\u001b[0;34m\u001b[0m\u001b[0;34m\u001b[0m\u001b[0m\n\u001b[0m\u001b[1;32m     26\u001b[0m             \u001b[0mminSub\u001b[0m \u001b[0;34m=\u001b[0m \u001b[0mrt\u001b[0m \u001b[0;34m-\u001b[0m \u001b[0mmin_rts\u001b[0m\u001b[0;34m\u001b[0m\u001b[0;34m\u001b[0m\u001b[0m\n\u001b[1;32m     27\u001b[0m             \u001b[0mminSub\u001b[0m \u001b[0;34m=\u001b[0m \u001b[0;34m(\u001b[0m\u001b[0mminSub\u001b[0m \u001b[0;34m>\u001b[0m \u001b[0;36m0\u001b[0m\u001b[0;34m)\u001b[0m \u001b[0;34m*\u001b[0m \u001b[0mminSub\u001b[0m\u001b[0;34m\u001b[0m\u001b[0;34m\u001b[0m\u001b[0m\n",
      "\u001b[0;31mKeyboardInterrupt\u001b[0m: "
     ]
    }
   ],
   "source": [
    "for fname in in_files:\n",
    "\n",
    "    file_index = in_files.index(fname)\n",
    "    f_data = mzxml.read(fname)\n",
    "\n",
    "    all_data =[(x['m/z array'], x['intensity array'], [float(x['retentionTime']) for y in x['m/z array']]) for x in f_data]\n",
    "\n",
    "\n",
    "    mzs = np.concatenate([x[0] for x in all_data])\n",
    "    intensities = np.concatenate([x[1] for x in all_data])\n",
    "    rts = np.concatenate([x[2] for x in all_data])\n",
    "    \n",
    "    c = 0\n",
    "    for i_mz, mz in enumerate(tqdm(mzs)):\n",
    "        c+=1\n",
    "        rt = rts[i_mz]\n",
    "        intensity = intensities[i_mz]\n",
    "\n",
    "        minSub = mz - min_mzs\n",
    "        minSub = (minSub > 0) * minSub\n",
    "        maxSub = max_mzs - mz\n",
    "        maxSub = (maxSub > 0) * maxSub\n",
    "        mzCheck = np.multiply(minSub, maxSub)\n",
    "\n",
    "        if any(mzCheck):\n",
    "            minSub = rt - min_rts\n",
    "            minSub = (minSub > 0) * minSub\n",
    "            maxSub = max_rts - rt\n",
    "            maxSub = (maxSub > 0) * maxSub\n",
    "            rtCheck = np.multiply(minSub, maxSub)\n",
    "            allCheck = np.multiply(mzCheck, rtCheck)\n",
    "\n",
    "            if any(allCheck):\n",
    "                for index in np.nonzero(allCheck)[0]:\n",
    "                    running_feature_list_mz[index][file_index].append(mz)\n",
    "                    running_feature_list_rt[index][file_index].append(rt)\n",
    "                    running_feature_list_i[index][file_index].append(intensity)\n",
    "\n",
    "            if c >= 10000:\n",
    "                break"
   ]
  },
  {
   "cell_type": "code",
   "execution_count": 61,
   "metadata": {},
   "outputs": [
    {
     "data": {
      "application/vnd.jupyter.widget-view+json": {
       "model_id": "18bcaa2f7d354ca483fb13cf9dfd8073",
       "version_major": 2,
       "version_minor": 0
      },
      "text/plain": [
       "HBox(children=(IntProgress(value=0, max=196678), HTML(value='')))"
      ]
     },
     "metadata": {},
     "output_type": "display_data"
    },
    {
     "ename": "KeyboardInterrupt",
     "evalue": "",
     "output_type": "error",
     "traceback": [
      "\u001b[0;31m---------------------------------------------------------------------------\u001b[0m",
      "\u001b[0;31mKeyboardInterrupt\u001b[0m                         Traceback (most recent call last)",
      "\u001b[0;32m<ipython-input-61-e6e589f9c0ab>\u001b[0m in \u001b[0;36m<module>\u001b[0;34m\u001b[0m\n\u001b[1;32m     19\u001b[0m         \u001b[0mminSub\u001b[0m \u001b[0;34m=\u001b[0m \u001b[0mmzs\u001b[0m \u001b[0;34m-\u001b[0m \u001b[0mmin_mz\u001b[0m\u001b[0;34m\u001b[0m\u001b[0;34m\u001b[0m\u001b[0m\n\u001b[1;32m     20\u001b[0m         \u001b[0mminSub\u001b[0m \u001b[0;34m=\u001b[0m \u001b[0;34m(\u001b[0m\u001b[0mminSub\u001b[0m \u001b[0;34m>\u001b[0m \u001b[0;36m0\u001b[0m\u001b[0;34m)\u001b[0m \u001b[0;34m*\u001b[0m \u001b[0mminSub\u001b[0m\u001b[0;34m\u001b[0m\u001b[0;34m\u001b[0m\u001b[0m\n\u001b[0;32m---> 21\u001b[0;31m         \u001b[0mmaxSub\u001b[0m \u001b[0;34m=\u001b[0m \u001b[0mmax_mzs\u001b[0m\u001b[0;34m[\u001b[0m\u001b[0mi\u001b[0m\u001b[0;34m]\u001b[0m \u001b[0;34m-\u001b[0m \u001b[0mmzs\u001b[0m\u001b[0;34m\u001b[0m\u001b[0;34m\u001b[0m\u001b[0m\n\u001b[0m\u001b[1;32m     22\u001b[0m         \u001b[0mmaxSub\u001b[0m \u001b[0;34m=\u001b[0m \u001b[0;34m(\u001b[0m\u001b[0mmaxSub\u001b[0m \u001b[0;34m>\u001b[0m \u001b[0;36m0\u001b[0m\u001b[0;34m)\u001b[0m \u001b[0;34m*\u001b[0m \u001b[0mmaxSub\u001b[0m\u001b[0;34m\u001b[0m\u001b[0;34m\u001b[0m\u001b[0m\n\u001b[1;32m     23\u001b[0m         \u001b[0mmzCheck\u001b[0m \u001b[0;34m=\u001b[0m \u001b[0mminSub\u001b[0m \u001b[0;34m*\u001b[0m \u001b[0mmaxSub\u001b[0m\u001b[0;34m\u001b[0m\u001b[0;34m\u001b[0m\u001b[0m\n",
      "\u001b[0;31mKeyboardInterrupt\u001b[0m: "
     ]
    }
   ],
   "source": [
    "#second version\n",
    "for fname in in_files:\n",
    "\n",
    "    file_index = in_files.index(fname)\n",
    "    f_data = mzxml.read(fname)\n",
    "\n",
    "    all_data =[(x['m/z array'], x['intensity array'], [float(x['retentionTime']) for y in x['m/z array']]) for x in f_data]\n",
    "\n",
    "\n",
    "    mzs = np.concatenate([x[0] for x in all_data])\n",
    "    intensities = np.concatenate([x[1] for x in all_data])\n",
    "    rts = np.concatenate([x[2] for x in all_data])\n",
    "    \n",
    "    c = 0\n",
    "    for i, min_mz in enumerate(tqdm(min_mzs)):\n",
    "        c+=1\n",
    "        min_rt = min_rts[i]\n",
    "        \n",
    "        minSub = mzs - min_mz\n",
    "        minSub = (minSub > 0) * minSub\n",
    "        maxSub = max_mzs[i] - mzs\n",
    "        maxSub = (maxSub > 0) * maxSub\n",
    "        #mzCheck = minSub * maxSub\n",
    "        mzCheck = np.multiply(minSub, maxSub)\n",
    "        \n",
    "        #minSub = np.subtract(mzs, min_mz)\n",
    "        #minSub = np.multiply(minSub>0,minSub)\n",
    "        #maxSub = np.subtract(max_mzs[i],mzs)\n",
    "        #maxSub = np.multiply(maxSub>0,maxSub)\n",
    "        #mzCheck = np.multiply(minSub, maxSub)\n",
    "        \n",
    "        if any(mzCheck):\n",
    "            minSub = rts - min_rt\n",
    "            minSub = (minSub > 0) * minSub\n",
    "            maxSub = max_rts[i] - rts\n",
    "            maxSub = (maxSub > 0) * maxSub\n",
    "            rtCheck = np.multiply(minSub, maxSub)\n",
    "            allCheck = np.multiply(mzCheck, rtCheck)\n",
    "\n",
    "            if any(allCheck):\n",
    "                for index in np.nonzero(allCheck)[0]:\n",
    "\n",
    "                    running_feature_list_mz[i][file_index].append(mzs[index])\n",
    "                    running_feature_list_rt[i][file_index].append(rts[index])\n",
    "                    running_feature_list_i[i][file_index].append(intensities[index])\n",
    "\n",
    "            if c >= 10000:\n",
    "                break"
   ]
  },
  {
   "cell_type": "code",
   "execution_count": 5,
   "metadata": {},
   "outputs": [
    {
     "data": {
      "application/vnd.jupyter.widget-view+json": {
       "model_id": "6fde4eba3b38448fba0b29374c5a366f",
       "version_major": 2,
       "version_minor": 0
      },
      "text/plain": [
       "HBox(children=(IntProgress(value=1, bar_style='info', max=1), HTML(value='')))"
      ]
     },
     "metadata": {},
     "output_type": "display_data"
    }
   ],
   "source": [
    "from statistics import mean,median\n",
    "\n",
    "for i,ft in tqdm(enumerate(running_feature_list_mz)): #for every feature\n",
    "    min_mz, min_rt, max_mz, max_rt = min_mzs[i],min_rts[i], max_mzs[i], max_rts[i]\n",
    "    if max_rt - min_rt >= 1499 or max_mz - min_mz >= 99990:\n",
    "        continue\n",
    "    sample_list = []\n",
    "    \n",
    "    for j,file in enumerate(ft): #for each file contributing to feature\n",
    "        sample_val = []\n",
    "        if file: #if that file contributed to the feature, get values\n",
    "            sample_min_mz, sample_max_mz, sample_med_mz = min(file), max(file), median(file)\n",
    "            rt_list = running_feature_list_rt[i][j]\n",
    "            i_list = running_feature_list_i[i][j]\n",
    "            sample_min_rt, sample_max_rt, sample_med_rt = min(rt_list), max(rt_list), median(rt_list)\n",
    "            sample_tot_i, sample_mean_i = sum(i_list), mean(i_list)\n",
    "        \n",
    "            sample_val = [sample_min_mz, sample_max_mz, sample_med_mz, sample_min_rt, \n",
    "                        sample_max_rt, sample_med_rt, sample_tot_i, sample_mean_i] #compute values for sample\n",
    "    \n",
    "        sample_list.append(sample_val)\n",
    "        \n",
    "    feature_list[i] = {\"Feature ID\": \"FT\"+str(i), \"FT med mz\":median([min_mz, max_mz]), \"FT min mz\": min_mz, \"FT max mz\": max_mz,\n",
    "                                       \"FT med rt\": median([min_rt,max_rt]), \"FT min rt\": min_rt, \"FT max rt\": max_rt, \n",
    "                                       \"CL1\":sample_list[0],\n",
    "                                      \"CL2\": sample_list[1], \"CL3\":sample_list[2],\"CL5\":sample_list[3],\n",
    "                                      \"CL6\":sample_list[4],\"CL7\": sample_list[5],\"CL8\":sample_list[6],\n",
    "                                      \"CL9\":sample_list[7],\"CL10\":sample_list[8],\"CL11\":sample_list[9],\n",
    "                                      \"CL14\":sample_list[10],\"CL16\":sample_list[11]}\n",
    "    "
   ]
  },
  {
   "cell_type": "code",
   "execution_count": 9,
   "metadata": {},
   "outputs": [],
   "source": [
    "import csv\n",
    "directory = \"/home/rcardiff/\"\n",
    "os.chdir(directory)\n",
    "\n",
    "summary = {\"Feature ID\", \"FT med mz\", \"FT min mz\", \"FT max mz\", \"FT med rt\", \"FT min rt\", \"FT max rt\"}\n",
    "#subList = { key:value for key,value in feature_list[2].items() if key in summary}\n",
    "#print(subList)\n",
    "\n",
    "with open('summary_test.csv', 'w') as f:\n",
    "    dict_writer = csv.DictWriter(f, summary)\n",
    "    dict_writer.writeheader()\n",
    "    subList = ( { key:value for key,value in x.items() if key in summary} for x in feature_list[2:] )\n",
    "    dict_writer.writerows(subList)"
   ]
  },
  {
   "cell_type": "code",
   "execution_count": 10,
   "metadata": {},
   "outputs": [],
   "source": [
    "import pickle\n",
    "\n",
    "#Write to pickle\n",
    "filename = 'pickle_test'\n",
    "outfile = open(filename, 'wb')\n",
    "pickle.dump(feature_list,outfile)\n",
    "outfile.close()\n",
    "\n",
    "\n"
   ]
  },
  {
   "cell_type": "code",
   "execution_count": 11,
   "metadata": {},
   "outputs": [],
   "source": [
    "#Open pickle\n",
    "infile = open('pickle_test','rb')\n",
    "new_dict = pickle.load(infile)\n",
    "infile.close()\n",
    "\n",
    "keys = new_dict[2].keys()\n",
    "\n",
    "with open('feature_full_test.csv', 'w') as f:\n",
    "    dict_writer = csv.DictWriter(f, keys)\n",
    "    dict_writer.writeheader()\n",
    "    dict_writer.writerows(new_dict[2:])"
   ]
  },
  {
   "cell_type": "code",
   "execution_count": null,
   "metadata": {},
   "outputs": [],
   "source": []
  }
 ],
 "metadata": {
  "kernelspec": {
   "display_name": "Python 3",
   "language": "python",
   "name": "python3"
  },
  "language_info": {
   "codemirror_mode": {
    "name": "ipython",
    "version": 3
   },
   "file_extension": ".py",
   "mimetype": "text/x-python",
   "name": "python",
   "nbconvert_exporter": "python",
   "pygments_lexer": "ipython3",
   "version": "3.6.7"
  }
 },
 "nbformat": 4,
 "nbformat_minor": 2
}
