{
 "cells": [
  {
   "cell_type": "code",
   "execution_count": null,
   "metadata": {},
   "outputs": [],
   "source": [
    "import cv2 as cv\n",
    "import numpy as np\n",
    "import matplotlib.pyplot as plt\n",
    "from skimage import feature\n",
    "from skimage.measure import regionprops\n",
    "import matplotlib.patches as mpatches\n",
    "from skimage.morphology import label\n",
    "import pandas as pd"
   ]
  },
  {
   "cell_type": "code",
   "execution_count": null,
   "metadata": {},
   "outputs": [],
   "source": [
    "def image_show(image, nrows=1, ncols=1, cmap='gray'):\n",
    "    fig, ax = plt.subplots(nrows=nrows, ncols=ncols, figsize=(14, 14))\n",
    "    ax.imshow(image, cmap='gray')\n",
    "    ax.axis('off')\n",
    "    return fig, ax"
   ]
  },
  {
   "cell_type": "code",
   "execution_count": null,
   "metadata": {},
   "outputs": [],
   "source": [
    "\n",
    "image = cv.imread('/home/rcardiff/ryan/ryan/PNGImages/neg_CL1.png',0)\n",
    "\n",
    "edges = feature.canny(image, sigma=1,\n",
    "                     low_threshold=10,\n",
    "                     high_threshold=50)\n",
    "\n",
    "\n",
    "# Label image regions.\n",
    "label_image = label(edges)\n",
    "#print(len(label_image))\n",
    "#print(len(label_image[0]))\n",
    "#print(label_image[700])\n",
    "\n",
    "\n",
    "#print(type(regionprops(label_image)))\n",
    "print(len(regionprops(label_image)))\n",
    "\n",
    "fig, ax5 = plt.subplots(figsize=(14, 14))\n",
    "ax5.imshow(image, cmap=plt.cm.gray)\n",
    "ax5.axis('off')\n",
    "\n",
    "for region in regionprops(label_image):\n",
    "    # Draw rectangle around segmented coins.\n",
    "    minr, minc, maxr, maxc = region.bbox\n",
    "    rect = mpatches.Rectangle((minc, minr),\n",
    "                              maxc - minc,\n",
    "                              maxr - minr,\n",
    "                              fill=False,\n",
    "                              edgecolor='red',\n",
    "                              linewidth=1)\n",
    "    ax5.add_patch(rect)\n",
    "    \n",
    "plt.tight_layout()\n",
    "plt.show()"
   ]
  },
  {
   "cell_type": "code",
   "execution_count": null,
   "metadata": {},
   "outputs": [],
   "source": [
    "region = regionprops(label_image)[900]\n",
    "print(region.bbox)\n",
    "min_mz, min_rt, max_mz, max_rt = region.bbox\n",
    "print(np.mean([min_mz, max_mz]))\n",
    "\n",
    "print(len(regionprops(image)))"
   ]
  },
  {
   "cell_type": "code",
   "execution_count": null,
   "metadata": {},
   "outputs": [],
   "source": [
    "data = {'Feature':[],'min_mz':[],'max_mz':[],'mean_mz':[],'min_rt':[],'max_rt':[],'mean_rt':[]}\n",
    "df = pd.DataFrame(data)\n",
    "print(df)\n",
    "\n",
    "c = 1\n",
    "for region in regionprops(label_image):\n",
    "    min_mz, min_rt, max_mz, max_rt = region.bbox\n",
    "    r = pd.Series(['FT'+str(c), 69.98+(min_mz/100), 69.98+(max_mz/100), 69.98+(np.mean([min_mz, max_mz])/100), min_rt*15, max_rt*15, np.mean([min_rt, max_rt])*15], index = ['Feature','min_mz','max_mz','mean_mz','min_rt','max_rt','mean_rt'])\n",
    "    #r = pd.Series(['FT'+str(c), 70+(min_mz/100), 70+(max_mz/100), 70+(np.mean([min_mz, max_mz])/100), min_rt/4, max_rt/4, np.mean([min_rt, max_rt])/4])\n",
    "    df = df.append(r,ignore_index = True)\n",
    "    c+=1\n",
    "\n",
    "df.to_csv('/home/rcardiff/feature_test.tsv', sep = '\\t')"
   ]
  },
  {
   "cell_type": "code",
   "execution_count": null,
   "metadata": {},
   "outputs": [],
   "source": [
    "for i in range(799,802):\n",
    "    print(regionprops(label_image,image)[i].intensity_image)\n",
    "    print(regionprops(label_image,image)[i].bbox)\n",
    "\n",
    "print(df)"
   ]
  },
  {
   "cell_type": "code",
   "execution_count": null,
   "metadata": {},
   "outputs": [],
   "source": []
  }
 ],
 "metadata": {
  "kernelspec": {
   "display_name": "Python 3",
   "language": "python",
   "name": "python3"
  },
  "language_info": {
   "codemirror_mode": {
    "name": "ipython",
    "version": 3
   },
   "file_extension": ".py",
   "mimetype": "text/x-python",
   "name": "python",
   "nbconvert_exporter": "python",
   "pygments_lexer": "ipython3",
   "version": "3.6.7"
  }
 },
 "nbformat": 4,
 "nbformat_minor": 2
}
