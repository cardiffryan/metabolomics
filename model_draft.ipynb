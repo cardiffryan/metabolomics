{
 "cells": [
  {
   "cell_type": "markdown",
   "metadata": {},
   "source": [
    "### Data Generator for Training and Validation datasets"
   ]
  },
  {
   "cell_type": "code",
   "execution_count": 1,
   "metadata": {},
   "outputs": [],
   "source": [
    "import random\n",
    "import numpy as np\n",
    "import cv2\n",
    "import os\n",
    "\n",
    "def data_gen(img_folder, mask_folder, batch_size):\n",
    "    c = 0\n",
    "    n = os.listdir(img_folder) #List of training images\n",
    "    n = [i for i in n if i.endswith('.png')]\n",
    "    random.shuffle(n)\n",
    "  \n",
    "    input_size = [256,256]\n",
    "    while (True):\n",
    "        img = np.zeros((batch_size, input_size[0], input_size[1], 1)).astype('float')\n",
    "        mask = np.zeros((batch_size, input_size[0], input_size[1], 1)).astype('float')\n",
    "        #img = np.zeros((batch_size, input_size[0], input_size[1])).astype('float')\n",
    "        #mask = np.zeros((batch_size, input_size[0], input_size[1])).astype('float')\n",
    "        \n",
    "        for i in range(c, c+batch_size): \n",
    "            train_img = cv2.imread(img_folder+'/'+n[i], cv2.IMREAD_GRAYSCALE)/255.\n",
    "            train_img =  cv2.resize(train_img, (input_size[0],input_size[1])) # Read an image from folder and resize\n",
    "            train_img = train_img.reshape(input_size[0], input_size[1], 1)\n",
    "    \n",
    "            img[i-c] = train_img #add to array - img[0], img[1], and so on.\n",
    "\n",
    "            train_mask = cv2.imread(mask_folder+'/'+n[i], cv2.IMREAD_GRAYSCALE)/255.\n",
    "            train_mask = cv2.resize(train_mask, (input_size[0],input_size[1]))\n",
    "            train_mask = train_mask.reshape(input_size[0], input_size[1], 1) # Add extra dimension for parity with train_img size [512 * 512 * 3]\n",
    "\n",
    "            mask[i-c] = train_mask\n",
    "\n",
    "        c+=batch_size\n",
    "        if(c+batch_size>=len(os.listdir(img_folder))):\n",
    "            c=0\n",
    "            random.shuffle(n)\n",
    "\n",
    "        yield img, mask\n",
    "\n",
    "    \n",
    "train_frame_path = '/home/rcardiff/ryan/ryan/290320_test/train_frames/train/'\n",
    "train_mask_path = '/home/rcardiff/ryan/ryan/290320_test/train_masks/train/'\n",
    "\n",
    "val_frame_path = '/home/rcardiff/ryan/ryan/290320_test/val_frames/val/'\n",
    "val_mask_path = '/home/rcardiff/ryan/ryan/290320_test/val_masks/val/'\n",
    "\n",
    "# Train the model\n",
    "train_gen = data_gen(train_frame_path,train_mask_path, batch_size = 4)\n",
    "val_gen = data_gen(val_frame_path,val_mask_path, batch_size = 4)"
   ]
  },
  {
   "cell_type": "markdown",
   "metadata": {},
   "source": [
    "### U-Net Model"
   ]
  },
  {
   "cell_type": "markdown",
   "metadata": {},
   "source": [
    "re-copy model in here"
   ]
  },
  {
   "cell_type": "code",
   "execution_count": 2,
   "metadata": {
    "jupyter": {
     "source_hidden": true
    }
   },
   "outputs": [],
   "source": [
    "import numpy as np \n",
    "import os\n",
    "import skimage.io as io\n",
    "import skimage.transform as trans\n",
    "import numpy as np\n",
    "import keras\n",
    "from keras.models import *\n",
    "from keras.layers import *\n",
    "from keras.optimizers import *\n",
    "#from keras import backend as keras\n",
    "\n",
    "new_model = keras.Sequential()\n",
    "\n",
    "#conv 1\n",
    "new_model.add(Conv2D(64, (3,3), input_shape = (256,256,1), padding = 'same', activation = 'relu', kernel_initializer= 'he_normal'))  \n",
    "new_model.add(Conv2D(64, (3,3), activation = 'relu', padding = 'same', kernel_initializer = 'he_normal'))\n",
    "new_model.add(MaxPooling2D(pool_size=(2, 2)))\n",
    "\n",
    "#conv 2\n",
    "new_model.add(Conv2D(128, 3, activation = 'relu', padding = 'same', kernel_initializer = 'he_normal'))\n",
    "new_model.add(Conv2D(128, 3, activation = 'relu', padding = 'same', kernel_initializer = 'he_normal'))\n",
    "new_model.add(MaxPooling2D(pool_size=(2, 2)))\n",
    "\n",
    "#conv 3 \n",
    "new_model.add(Conv2D(256, 3, activation = 'relu', padding = 'same', kernel_initializer = 'he_normal'))\n",
    "new_model.add(Conv2D(256, 3, activation = 'relu', padding = 'same', kernel_initializer = 'he_normal'))\n",
    "new_model.add(MaxPooling2D(pool_size=(2, 2)))\n",
    "\n",
    "#conv 4 \n",
    "new_model.add(Conv2D(512, 3, activation = 'relu', padding = 'same', kernel_initializer = 'he_normal'))\n",
    "new_model.add(Conv2D(512, 3, activation = 'relu', padding = 'same', kernel_initializer = 'he_normal'))\n",
    "new_model.add(Dropout(0.5))\n",
    "new_model.add(MaxPooling2D(pool_size=(2, 2)))\n",
    "\n",
    "#conv5\n",
    "new_model.add(Conv2D(1024, 3, activation = 'relu', padding = 'same', kernel_initializer = 'he_normal'))\n",
    "new_model.add(Conv2D(1024, 3, activation = 'relu', padding = 'same', kernel_initializer = 'he_normal'))\n",
    "new_model.add(Dropout(0.5))\n",
    "\n",
    "#conv6\n",
    "new_model.add(UpSampling2D(size = (2,2)))\n",
    "new_model.add(Conv2D(512, 2, activation = 'relu', padding = 'same', kernel_initializer = 'he_normal'))\n",
    "    #up6 = ()(drop5))\n",
    "    #merge6 = concatenate([drop4,up6], axis = 3)\n",
    "    #conv6 = Conv2D(512, 3, activation = 'relu', padding = 'same', kernel_initializer = 'he_normal')(merge6)\n",
    "    #conv6 = Conv2D(512, 3, activation = 'relu', padding = 'same', kernel_initializer = 'he_normal')(conv6)\n",
    "\n",
    "    #up7 = Conv2D(256, 2, activation = 'relu', padding = 'same', kernel_initializer = 'he_normal')(UpSampling2D(size = (2,2))(conv6))\n",
    "    #merge7 = concatenate([conv3,up7], axis = 3)\n",
    "    #conv7 = Conv2D(256, 3, activation = 'relu', padding = 'same', kernel_initializer = 'he_normal')(merge7)\n",
    "    #conv7 = Conv2D(256, 3, activation = 'relu', padding = 'same', kernel_initializer = 'he_normal')(conv7)\n",
    "\n",
    "    #up8 = Conv2D(128, 2, activation = 'relu', padding = 'same', kernel_initializer = 'he_normal')(UpSampling2D(size = (2,2))(conv7))\n",
    "    #merge8 = concatenate([conv2,up8], axis = 3)\n",
    "    #conv8 = Conv2D(128, 3, activation = 'relu', padding = 'same', kernel_initializer = 'he_normal')(merge8)\n",
    "    #conv8 = Conv2D(128, 3, activation = 'relu', padding = 'same', kernel_initializer = 'he_normal')(conv8)\n",
    "\n",
    "    #up9 = Conv2D(64, 2, activation = 'relu', padding = 'same', kernel_initializer = 'he_normal')(UpSampling2D(size = (2,2))(conv8))\n",
    "    #merge9 = concatenate([conv1,up9], axis = 3)\n",
    "    #conv9 = Conv2D(64, 3, activation = 'relu', padding = 'same', kernel_initializer = 'he_normal')(merge9)\n",
    "    #conv9 = Conv2D(64, 3, activation = 'relu', padding = 'same', kernel_initializer = 'he_normal')(conv1)\n",
    "    #conv9 = Conv2D(2, 3, activation = 'relu', padding = 'same', kernel_initializer = 'he_normal')(conv9)\n",
    "    #conv10 = Conv2D(1, 1, activation = 'sigmoid')(conv9)\n",
    "\n",
    "            \n",
    "\n",
    "\n"
   ]
  },
  {
   "cell_type": "markdown",
   "metadata": {},
   "source": [
    "### Train Model"
   ]
  },
  {
   "cell_type": "code",
   "execution_count": 3,
   "metadata": {},
   "outputs": [],
   "source": [
    "from keras.callbacks import ModelCheckpoint\n",
    "from keras.callbacks import CSVLogger\n",
    "from keras.callbacks import EarlyStopping\n",
    "from keras.optimizers import Adam\n",
    "from keras import losses\n",
    "import os\n",
    "from keras import metrics\n",
    "\n",
    "NO_OF_TRAINING_IMAGES = len(os.listdir('/home/rcardiff/ryan/ryan/290320_test/train_frames/train'))\n",
    "NO_OF_VAL_IMAGES = len(os.listdir('/home/rcardiff/ryan/ryan/290320_test/val_frames/val'))\n",
    "\n",
    "NO_OF_EPOCHS = 10\n",
    "\n",
    "BATCH_SIZE = 4\n",
    "\n",
    "weights_path = '/home/rcardiff/ryan/ryan/290320_test/weights/'\n",
    "\n",
    "m = unet()\n",
    "opt = Adam(lr=1E-5, beta_1=0.9, beta_2=0.999, epsilon=1e-08)\n",
    " \n",
    "m.compile(loss = 'binary_crossentropy', optimizer = opt, metrics = ['accuracy' ] )#, metrics.FalseNegatives()])\n",
    "\n",
    "\n",
    "\n",
    "#checkpoint = ModelCheckpoint(weights_path, monitor='accuracy', verbose=1, save_best_only=True, mode='max')\n",
    "\n",
    "#csv_logger = CSVLogger('train_log.csv', append=True, separator=';')\n",
    "\n",
    "#earlystopping = EarlyStopping(monitor = 'accuracy', verbose = 1, min_delta = 0.01, patience = 3, mode = 'max')\n",
    "\n",
    "callbacks_list = []\n"
   ]
  },
  {
   "cell_type": "code",
   "execution_count": null,
   "metadata": {},
   "outputs": [],
   "source": [
    "results = m.fit_generator(train_gen, epochs=NO_OF_EPOCHS, \n",
    "                          steps_per_epoch = (NO_OF_TRAINING_IMAGES//BATCH_SIZE),\n",
    "                          validation_data=val_gen, \n",
    "                          validation_steps=(NO_OF_VAL_IMAGES//BATCH_SIZE), \n",
    "                          callbacks=callbacks_list)\n",
    "\n",
    "m.save('/home/rcardiff/ryan/ryan/290320_test/28_Model.h5')\n"
   ]
  },
  {
   "cell_type": "code",
   "execution_count": 2,
   "metadata": {},
   "outputs": [],
   "source": [
    "import numpy as np\n",
    "import os\n",
    "import cv2\n",
    "\n",
    "def testGenerator(img_folder, target_size = (256,256)):\n",
    "    n = sorted(os.listdir(img_folder)) #List of training images\n",
    "    \n",
    "    while (True):\n",
    "        if '.ipynb_checkpoints' in n:\n",
    "            n.remove(n[0])\n",
    "        img = np.zeros((len(n), target_size[0], target_size[1], 1)).astype('float')\n",
    "        \n",
    "        for i in range(len(n)):\n",
    "            if n[i].endswith('.png'):\n",
    "                test_img = cv2.imread(img_folder+'/'+n[i], cv2.IMREAD_GRAYSCALE)/255.\n",
    "                test_img =  cv2.resize(test_img, (target_size)) # Read an image from folder and resize\n",
    "                test_img = test_img.reshape(target_size[0], target_size[1], 1)\n",
    "                img[i] = test_img\n",
    "            \n",
    "        yield img\n",
    "        "
   ]
  },
  {
   "cell_type": "code",
   "execution_count": 3,
   "metadata": {},
   "outputs": [],
   "source": [
    "from keras.models import *\n",
    "import tensorflow as tf\n",
    "\n",
    "frame_path_1 = '/home/rcardiff/ryan/ryan/290320_test/Frames/frames_1/'\n",
    "frame_path_2 = '/home/rcardiff/ryan/ryan/290320_test/Frames/frames_2/'\n",
    "test_gen_1 = testGenerator(frame_path_1)\n",
    "test_gen_2 = testGenerator(frame_path_2)\n",
    "m = load_model('/home/rcardiff/ryan/ryan/290320_test/weights/Model_gpu.h5')\n",
    "\n",
    "predictions = m.predict_generator(test_gen_1,steps = 1)\n",
    "predictions_2 = m.predict_generator(test_gen_2,steps=1)\n",
    "predict_tot = np.concatenate((predictions,predictions_2))\n",
    "np.save('predictions.npy',predict_tot)"
   ]
  },
  {
   "cell_type": "code",
   "execution_count": 13,
   "metadata": {},
   "outputs": [
    {
     "name": "stdout",
     "output_type": "stream",
     "text": [
      "(122, 256, 256, 1)\n"
     ]
    },
    {
     "data": {
      "text/plain": [
       "<matplotlib.image.AxesImage at 0x7f24fd207490>"
      ]
     },
     "execution_count": 13,
     "metadata": {},
     "output_type": "execute_result"
    },
    {
     "data": {
      "image/png": "[encoded data removed]",
      "text/plain": [
       "<Figure size 432x288 with 1 Axes>"
      ]
     },
     "metadata": {
      "needs_background": "light"
     },
     "output_type": "display_data"
    }
   ],
   "source": [
    "from matplotlib import pyplot as plt\n",
    "import numpy as np\n",
    "\n",
    "predict_tot = np.load('/home/rcardiff/ryan/ryan/290320_test/weights/smaller_partitions_results.npy')\n",
    "print(predict_tot.shape)\n",
    "plt.imshow(predict_tot[8].reshape((256,256))>.1, cmap = plt.cm.gray)"
   ]
  },
  {
   "cell_type": "code",
   "execution_count": 126,
   "metadata": {},
   "outputs": [],
   "source": [
    "\n",
    "file_path = '/home/rcardiff/ryan/ryan/290320_test/Predictions/small_partitions/'\n",
    "\n",
    "for i,p in enumerate(predict_tot):\n",
    "    p = p.reshape((256,256))>.1 # or *255\n",
    "    im = Image.fromarray(p).convert('L')\n",
    "    im.save(file_path+'img_'+str(i).zfill(3)+'.png')\n",
    "    "
   ]
  },
  {
   "cell_type": "code",
   "execution_count": null,
   "metadata": {},
   "outputs": [],
   "source": []
  },
  {
   "cell_type": "code",
   "execution_count": null,
   "metadata": {},
   "outputs": [],
   "source": [
    "frame_path = '/home/rcardiff/ryan/ryan/290320_test/Frames/'\n",
    "frames = sorted(os.listdir(frame_path))\n",
    "\n",
    "if '.ipynb_checkpoints' in frames:\n",
    "    frames.remove(frames[0])\n",
    "    print(frames)"
   ]
  },
  {
   "cell_type": "code",
   "execution_count": 127,
   "metadata": {},
   "outputs": [],
   "source": [
    "from PIL import Image\n",
    "\n",
    "c = 0\n",
    "path = '/home/rcardiff/ryan/ryan/290320_test/Predictions/gpu/'\n",
    "predictions = sorted(os.listdir(path))\n",
    "\n",
    "if '.ipynb_checkpoints' in predictions:\n",
    "    predictions.remove(predictions[0])\n",
    "    \n",
    "result = Image.new('L',(0,0))\n",
    "result_list = []\n",
    "\n",
    "for p in predictions:\n",
    "    frame_add = Image.open(path+p)\n",
    "    (width1, height1) = result.size\n",
    "    (width2, height2) = frame_add.size\n",
    "\n",
    "    result_width = max(width1,width2)\n",
    "    result_height = height1 + height2\n",
    "        \n",
    "    temp = Image.new('L', (result_width, result_height))\n",
    "    temp.paste(im=result, box=(0, 0))\n",
    "    temp.paste(im=frame_add, box=(0, height1))\n",
    "    result = temp\n",
    "    c+=1\n",
    "    if c%20==0:\n",
    "        result_list.append(result)\n",
    "        result = Image.new('L',(0,0))\n",
    "\n",
    "full_result = Image.new('L',(result_list[0].size[0]*6,result_list[0].size[1]))\n",
    "for i in range(6):\n",
    "    full_result.paste(im=result_list[i], box=(i*256,0))"
   ]
  },
  {
   "cell_type": "code",
   "execution_count": null,
   "metadata": {},
   "outputs": [],
   "source": []
  }
 ],
 "metadata": {
  "kernelspec": {
   "display_name": "Python 3",
   "language": "python",
   "name": "python3"
  },
  "language_info": {
   "codemirror_mode": {
    "name": "ipython",
    "version": 3
   },
   "file_extension": ".py",
   "mimetype": "text/x-python",
   "name": "python",
   "nbconvert_exporter": "python",
   "pygments_lexer": "ipython3",
   "version": "3.7.6"
  }
 },
 "nbformat": 4,
 "nbformat_minor": 4
}
