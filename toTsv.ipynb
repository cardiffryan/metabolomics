{
 "cells": [
  {
   "cell_type": "code",
   "execution_count": 8,
   "metadata": {},
   "outputs": [
    {
     "name": "stdout",
     "output_type": "stream",
     "text": [
      "['IC14.mzXML', 'IC13.mzXML', 'IC9.mzXML', 'IC12.mzXML', 'IC6.mzXML', 'IC11.mzXML', 'IC10.mzXML', 'IC17.mzXML', 'IC3.mzXML', 'IC8.mzXML', 'IC1.mzXML', 'IC4.mzXML', 'IC16.mzXML', 'IC15.mzXML', 'IC2.mzXML', 'IC5.mzXML', 'IC7.mzXML']\n"
     ]
    }
   ],
   "source": [
    "from pyteomics import mzxml, auxiliary\n",
    "from matplotlib import pyplot as plt\n",
    "import numpy as np \n",
    "from mpl_toolkits.mplot3d import Axes3D\n",
    "import os\n",
    "import pandas as pd\n",
    "import math\n",
    "import random\n",
    "\n",
    "\n",
    "os.getcwd()\n",
    "directory = \"/home/rcardiff/meyer_raw_data/C18_neg/IC/\"\n",
    "os.chdir(directory)\n",
    "files = os.listdir(directory)\n",
    "for f in files:\n",
    "    if not f.endswith(\".mzXML\"):\n",
    "        files.remove(f)\n",
    "print(files)\n",
    "fileIter = iter(files)\n",
    "#How can I iterate through files in jupyter notebook?"
   ]
  },
  {
   "cell_type": "code",
   "execution_count": 10,
   "metadata": {},
   "outputs": [
    {
     "name": "stdout",
     "output_type": "stream",
     "text": [
      "IC13.mzXML\n"
     ]
    },
    {
     "name": "stderr",
     "output_type": "stream",
     "text": [
      "IOPub data rate exceeded.\n",
      "The notebook server will temporarily stop sending output\n",
      "to the client in order to avoid crashing it.\n",
      "To change this limit, set the config variable\n",
      "`--NotebookApp.iopub_data_rate_limit`.\n",
      "\n",
      "Current values:\n",
      "NotebookApp.iopub_data_rate_limit=1000000.0 (bytes/sec)\n",
      "NotebookApp.rate_limit_window=3.0 (secs)\n",
      "\n"
     ]
    },
    {
     "name": "stdout",
     "output_type": "stream",
     "text": [
      "69.98 999.11 0.0 30.0\n"
     ]
    }
   ],
   "source": [
    "rt, mz, intensity = ([] for i in range(3))\n",
    "f = next(fileIter)\n",
    "print(f)\n",
    "a = mzxml.read(f) \n",
    "for spectra in a:\n",
    "\tmz.append(spectra.get('m/z array'))\n",
    "\tintensity.append(spectra.get('intensity array'))\n",
    "\trt.append(spectra.get('retentionTime'))\n",
    "\n",
    "mz = ([np.round(m,2) for m in mz])\n",
    "minMz = min([min(m) for m in mz])\n",
    "maxMz = max([max(m) for m in mz])\n",
    "\n",
    "\n",
    "minRt = round(min(rt)*4)/4\n",
    "maxRt = round(max(rt)*4)/4\n",
    "\n",
    "print(minMz, maxMz, minRt, maxRt)\n"
   ]
  },
  {
   "cell_type": "code",
   "execution_count": 3,
   "metadata": {},
   "outputs": [],
   "source": [
    "\n",
    "rt_list = np.arange(minRt, maxRt+.01, .25)\n",
    "mz_list = np.arange(minMz,maxMz+.01, .01)\n",
    "mz_list = np.round(mz_list,2)\n",
    "df = pd.DataFrame(columns=rt_list, index = mz_list)\n",
    "#print(df)"
   ]
  },
  {
   "cell_type": "code",
   "execution_count": 186,
   "metadata": {},
   "outputs": [],
   "source": [
    "\n",
    "for r,m,i in zip(rt, mz, intensity):\n",
    "    r = round(r*4)/4\n",
    "    for m_i, i_j in zip(m,i):\n",
    "        if pd.isnull(df.loc[m_i,r]):\n",
    "            df.at[m_i,r] = i_j\n",
    "        else:\n",
    "            df.at[m_i,r] += i_j\n"
   ]
  },
  {
   "cell_type": "code",
   "execution_count": 187,
   "metadata": {},
   "outputs": [
    {
     "name": "stdout",
     "output_type": "stream",
     "text": [
      "8.75\n",
      "947.06\n",
      "False\n",
      "0.0\n"
     ]
    }
   ],
   "source": [
    "df.fillna(value = 0.0, inplace = True)\n",
    "\n",
    "r = random.choice(rt_list)\n",
    "print(r)\n",
    "m_i = random.choice(mz_list)\n",
    "print(m_i)\n",
    "print(pd.isnull(df.loc[m_i, r]))\n",
    "print(df.loc[m_i,r])\n",
    "\n",
    "#print(df)"
   ]
  },
  {
   "cell_type": "code",
   "execution_count": 188,
   "metadata": {},
   "outputs": [],
   "source": [
    "df.to_csv('/home/rcardiff/tsv/neg_'+f.split('.')[0]+'.tsv', sep = '\\t')"
   ]
  },
  {
   "cell_type": "code",
   "execution_count": null,
   "metadata": {},
   "outputs": [],
   "source": []
  }
 ],
 "metadata": {
  "kernelspec": {
   "display_name": "Python 3",
   "language": "python",
   "name": "python3"
  },
  "language_info": {
   "codemirror_mode": {
    "name": "ipython",
    "version": 3
   },
   "file_extension": ".py",
   "mimetype": "text/x-python",
   "name": "python",
   "nbconvert_exporter": "python",
   "pygments_lexer": "ipython3",
   "version": "3.6.7"
  }
 },
 "nbformat": 4,
 "nbformat_minor": 2
}
