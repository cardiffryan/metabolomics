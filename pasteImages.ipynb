{
 "cells": [
  {
   "cell_type": "code",
   "execution_count": null,
   "metadata": {},
   "outputs": [],
   "source": [
    "import os\n",
    "import sys\n",
    "from PIL import Image\n",
    "\n",
    "directory = \"/home/rcardiff/high_res_test/\"\n",
    "in_files = [os.path.join(directory, x) for x in os.listdir(directory) if x.endswith('.png')]\n",
    "\n",
    "images = [Image.open(x) for x in in_files]\n",
    "widths, heights= zip(*(i.size for i in images))\n",
    "total_height = sum(heights)\n",
    "max_width = max(widths)\n",
    "\n",
    "new_im = Image.new('L', (max_width, total_height))\n",
    "x_offset = 0\n",
    "for im in images:\n",
    "    new_im.paste(im,(x_offset,0))\n",
    "    x_offset+=im.size[0]\n",
    "    \n",
    "new_im.save('test_paste.png')"
   ]
  },
  {
   "cell_type": "code",
   "execution_count": null,
   "metadata": {},
   "outputs": [],
   "source": []
  }
 ],
 "metadata": {
  "kernelspec": {
   "display_name": "Python 3",
   "language": "python",
   "name": "python3"
  },
  "language_info": {
   "codemirror_mode": {
    "name": "ipython",
    "version": 3
   },
   "file_extension": ".py",
   "mimetype": "text/x-python",
   "name": "python",
   "nbconvert_exporter": "python",
   "pygments_lexer": "ipython3",
   "version": "3.6.7"
  }
 },
 "nbformat": 4,
 "nbformat_minor": 2
}
