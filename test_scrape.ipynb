{
 "cells": [
  {
   "cell_type": "markdown",
   "metadata": {},
   "source": [
    "MTBLS266/MTBLS1540 has start scan time in minutes for rt (.mzml) -> Data did not upload correctly - files are corrupt?\n",
    "\n",
    "how to download zip??? FileZilla?"
   ]
  },
  {
   "cell_type": "code",
   "execution_count": 24,
   "metadata": {},
   "outputs": [],
   "source": [
    "import os\n",
    "from pyteomics import mzxml, mzml, auxiliary\n",
    "import numpy as np"
   ]
  },
  {
   "cell_type": "code",
   "execution_count": null,
   "metadata": {},
   "outputs": [],
   "source": [
    "\n",
    "path = '/home/rcardiff/ryan/ryan/public_data/'\n",
    "rt, mz, intensity = ([] for i in range(3))\n",
    "\n",
    "directory = os.listdir(path)\n",
    "\n",
    "for folder in directory:\n",
    "#folder = 'MTBLS266'\n",
    "    if os.path.isdir(path+folder):\n",
    "        os.chdir(path+folder)\n",
    "        for f in os.listdir(path+folder):\n",
    "                if f.endswith('.mzXML'):\n",
    "                    print(f)\n",
    "                    a = mzxml.read(f)\n",
    "                    for spectra in a:\n",
    "                        mz.append(np.round(spectra.get('m/z array'), 2))\n",
    "                        intensity.append(spectra.get('intensity array'))\n",
    "                        rt.append(round(spectra.get('retentionTime')*(1/.02))/(1/.02))\n",
    "\n",
    "                elif f.endswith('.mzML'):\n",
    "                    a = mzml.read(f)\n",
    "                    for spectra in a:\n",
    "                        mz.append(np.round(spectra.get('m/z array'), 2))\n",
    "                        intensity.append(spectra.get('intensity array'))\n",
    "                        rt.append(round(spectra.get('scanList').get('scan')[0].get('scan start time')*(1/.02))/(1/.02))\n",
    "                             \n",
    "    #break\n",
    "print(\"Done\")\n",
    "                "
   ]
  },
  {
   "cell_type": "code",
   "execution_count": 31,
   "metadata": {},
   "outputs": [],
   "source": [
    "f = '/home/rcardiff/ryan/ryan/public_data/MTBLS469/PR14_v4_male_arm2_juice_neg.mzXML'\n",
    "rt, mz, intensity = ([] for i in range(3))\n",
    "a = mzxml.read(f)\n",
    "for spectra in a:\n",
    "    mz.append(np.round(spectra.get('m/z array'), 2))\n",
    "    intensity.append(spectra.get('intensity array'))\n",
    "    rt.append(round(spectra.get('retentionTime')*(1/.02))/(1/.02))\n"
   ]
  },
  {
   "cell_type": "code",
   "execution_count": null,
   "metadata": {},
   "outputs": [],
   "source": [
    "folder = '/home/rcardiff/ryan/ryan/public_data/MTBLS266/'\n",
    "os.chdir(folder)\n",
    "\n",
    "for f in os.listdir(folder):\n",
    "    if f.endswith('mzML'):\n",
    "            a = mzml.read(f)\n",
    "            for s in a:\n",
    "                #print(len(s.get('m/z array')))\n",
    "                print(s.get('scanList').get('scan')[0].get('scan start time'))\n",
    "\n",
    "print('Done')"
   ]
  },
  {
   "cell_type": "code",
   "execution_count": null,
   "metadata": {},
   "outputs": [],
   "source": [
    "os.chdir('/home/rcardiff/ryan/ryan/public_data/MTBLS469')\n",
    "for f in os.listdir('/home/rcardiff/ryan/ryan/public_data/MTBLS469'):\n",
    "    if f.startswith('PR'):\n",
    "        a = mzxml.read(f)\n",
    "        for spectra in a:\n",
    "            mz.append(np.round(spectra.get('m/z array'), 2))\n",
    "            intensity.append(spectra.get('intensity array'))\n",
    "            rt.append(round(spectra.get('retentionTime')*(1/.02))/(1/.02))"
   ]
  },
  {
   "cell_type": "code",
   "execution_count": 15,
   "metadata": {},
   "outputs": [],
   "source": [
    "import shutil\n",
    "#shutil.rmtree('/home/rcardiff/ryan/ryan/public_data/MTBLS469/')"
   ]
  },
  {
   "cell_type": "markdown",
   "metadata": {},
   "source": [
    "### Create labeled images from annotated data"
   ]
  },
  {
   "cell_type": "code",
   "execution_count": 1,
   "metadata": {},
   "outputs": [],
   "source": [
    "import csv\n",
    "import pandas as pd\n",
    "import numpy as np\n",
    "\n",
    "ur_neg = pd.read_csv('/home/rcardiff/ryan/ryan/public_data/MTBLS469/m_mtbls469_NEG_Urine_mass_spectrometry_v2_maf.tsv',sep = '\\t')\n",
    "ur_pos = pd.read_csv('/home/rcardiff/ryan/ryan/public_data/MTBLS469/m_mtbls469_POS_Urine_mass_spectrometry_v2_maf.tsv',sep = '\\t')\n",
    "labels = np.zeros((len(ur_neg) + len(ur_pos),2))\n",
    "\n",
    "for i, row in ur_neg.iterrows():\n",
    "    labels[i] = [row['retention_time']*(50), row['mass_to_charge']*100]\n",
    "for i, row in ur_pos.iterrows():\n",
    "    labels[i+len(ur_neg)] = [row['retention_time']*(50), row['mass_to_charge']*100]\n",
    "cleanedLabels = [x for x in labels if str(x[1]) != 'nan']\n",
    "labels = np.asarray(cleanedLabels)"
   ]
  },
  {
   "cell_type": "code",
   "execution_count": 3,
   "metadata": {},
   "outputs": [
    {
     "data": {
      "text/plain": [
       "True"
      ]
     },
     "execution_count": 3,
     "metadata": {},
     "output_type": "execute_result"
    }
   ],
   "source": [
    "import cv2 as cv\n",
    "import matplotlib.pyplot as plt\n",
    "import math\n",
    "\n",
    "template = np.zeros((100000,1500))\n",
    "\n",
    "for f in labels:\n",
    "    start_point = (int(f[0]),int(f[1]))\n",
    "    end_point = (math.ceil(f[0]),math.ceil(f[1]))\n",
    "    template = cv.rectangle(template, start_point, end_point, (255,255,255), -1) \n",
    "\n",
    "\n",
    "#fig, ax = plt.subplots(figsize=(100,100))\n",
    "#ax.imshow(template, cmap=plt.cm.gray)\n",
    "#ax.axis('off')\n",
    "cv.imwrite(\"/home/rcardiff/ryan/ryan/mtbls469_test.png\", template)"
   ]
  },
  {
   "cell_type": "markdown",
   "metadata": {},
   "source": [
    "very few labels - need intermediate fragmentation data?"
   ]
  },
  {
   "cell_type": "code",
   "execution_count": 22,
   "metadata": {},
   "outputs": [
    {
     "data": {
      "text/plain": [
       "747.5"
      ]
     },
     "execution_count": 22,
     "metadata": {},
     "output_type": "execute_result"
    }
   ],
   "source": [
    "max(labels[:,0])"
   ]
  },
  {
   "cell_type": "code",
   "execution_count": null,
   "metadata": {},
   "outputs": [],
   "source": []
  }
 ],
 "metadata": {
  "kernelspec": {
   "display_name": "Python 3",
   "language": "python",
   "name": "python3"
  },
  "language_info": {
   "codemirror_mode": {
    "name": "ipython",
    "version": 3
   },
   "file_extension": ".py",
   "mimetype": "text/x-python",
   "name": "python",
   "nbconvert_exporter": "python",
   "pygments_lexer": "ipython3",
   "version": "3.7.6"
  }
 },
 "nbformat": 4,
 "nbformat_minor": 4
}
