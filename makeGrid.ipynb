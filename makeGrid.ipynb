{
 "cells": [
  {
   "cell_type": "code",
   "execution_count": 2,
   "metadata": {},
   "outputs": [],
   "source": [
    "from pyteomics import mzxml, auxiliary\n",
    "from matplotlib import pyplot as plt\n",
    "import numpy as np \n",
    "import os\n",
    "import pandas as pd\n",
    "import math\n",
    "import random\n",
    "from itertools import product\n",
    "\n",
    "f = \"/home/rcardiff/ryan/ryan/meyer_raw_data/C18_neg/CL/CL1.mzXML\"\n",
    "a = mzxml.read(f) \n",
    "\n",
    "rt, mz, intensity = ([] for i in range(3))\n",
    "\n",
    "for spectra in a:\n",
    "\tmz.append(spectra.get('m/z array'))\n",
    "\tintensity.append(spectra.get('intensity array'))\n",
    "\trt.append(spectra.get('retentionTime'))\n",
    "\n",
    "\n",
    "minMz = 0\n",
    "maxMz = 1000\n",
    "minRt = 0\n",
    "maxRt = 30\n",
    "\n",
    "\n",
    "rt_buckets = np.linspace(.02,.25,5)\n",
    "mz_buckets = np.linspace(.001, .01, 5)"
   ]
  },
  {
   "cell_type": "code",
   "execution_count": null,
   "metadata": {},
   "outputs": [],
   "source": [
    "for c in product(rt_buckets, mz_buckets):\n",
    "    \n",
    "    rt_list = np.arange(minRt, maxRt+.001, c[0])\n",
    "    mz_list = np.arange(minMz,maxMz, c[1])\n",
    "    mz_list = np.round(mz_list,3)\n",
    "    df = pd.DataFrame(columns=rt_list, index = mz_list)\n",
    "\n",
    "    \n",
    "    mz_round = [[round(m1*(1/c[1]))/(1/c[1]) for m1 in m] for m in mz]\n",
    "    mz_round = ([np.round(m,3) for m in mz_round])\n",
    "    rt_round = ([round(r*(1/c[0]))/(1/c[0]) for r in rt])    \n",
    "\n",
    "    \n",
    "    for r,m,i in zip(rt_round, mz_round, intensity):\n",
    "        for m_i, i_j in zip(m,i):\n",
    "            print(m_i, r)\n",
    "            if pd.isnull(df.loc[m_i,r]):\n",
    "                df.at[m_i,r] = i_j\n",
    "            else:\n",
    "                df.at[m_i,r] += i_j\n",
    "\n",
    "    df.fillna(value = 0.0, inplace = True)\n",
    "    df.to_csv('/home/rcardiff/grid/'+rt_buckets.index(c[0])+mz_buckets.index(c[1])+'.tsv', sep = '\\t')"
   ]
  },
  {
   "cell_type": "code",
   "execution_count": null,
   "metadata": {},
   "outputs": [],
   "source": [
    "rt_list = np.arange(minRt, maxRt+.001, .02)\n",
    "rt_list = [np.round(r,3) for r in rt_list]\n",
    "mz_list = np.arange(minMz,maxMz, .001)\n",
    "mz_list = np.round(mz_list,3)\n",
    "df = pd.DataFrame(columns=rt_list, index = mz_list)\n",
    "\n",
    "    \n",
    "mz_round = [[round(m1*(1/.001))/(1/.001) for m1 in m] for m in mz]\n",
    "mz_round = ([np.round(m,3) for m in mz_round])\n",
    "rt_round = ([round(r*(1/.02))/(1/.02) for r in rt])    \n",
    "\n",
    "    \n",
    "for r,m,i in zip(rt_round, mz_round, intensity):\n",
    "    for m_i, i_j in zip(m,i):\n",
    "        if pd.isnull(df.loc[m_i,r]):\n",
    "            df.at[m_i,r] = i_j\n",
    "        else:\n",
    "            df.at[m_i,r] += i_j\n",
    "\n",
    "df.fillna(value = 0.0, inplace = True)\n",
    "df.to_csv('/home/rcardiff/dec8test2.tsv', sep = '\\t')"
   ]
  },
  {
   "cell_type": "code",
   "execution_count": 14,
   "metadata": {},
   "outputs": [],
   "source": [
    "import os\n",
    "\n",
    "f = open('/home/rcardiff/test_file.tsv', 'w')\n",
    "print('INDEXCOLUMN\\tHEADER1\\tHEADER2\\tHEADER3', file = f)\n",
    "f.close()"
   ]
  },
  {
   "cell_type": "code",
   "execution_count": 15,
   "metadata": {},
   "outputs": [],
   "source": [
    "f = open('/home/rcardiff/test_file.tsv', 'a')\n",
    "print('index_name\\tdata1\\tdata2\\tdata3', file =f)\n",
    "f.close()"
   ]
  },
  {
   "cell_type": "code",
   "execution_count": null,
   "metadata": {},
   "outputs": [],
   "source": [
    "#Rounding function\n",
    "\n",
    "#def myround(x, x_step):\n",
    "#    rounded = ([round(a*(1/x_step))/(1/x_step) for a in x])\n",
    "#    return rounded"
   ]
  },
  {
   "cell_type": "code",
   "execution_count": 3,
   "metadata": {},
   "outputs": [],
   "source": [
    "#Rounding mz and rt\n",
    "\n",
    "#rt_round = ([round(r*(1/.02))/(1/.02) for r in rt])   \n",
    "#print(rt_round)\n",
    "\n",
    "mz_round = [[round(m1*(1/.001))/(1/.001) for m1 in m] for m in mz]\n",
    "#mz_round = ([np.round(m,3) for m in mz_round])\n",
    "#print(mz_round)"
   ]
  },
  {
   "cell_type": "code",
   "execution_count": null,
   "metadata": {},
   "outputs": [],
   "source": [
    "#Creating dataframe\n",
    "\n",
    "#rt_list = np.arange(minRt, maxRt+.001, .02)\n",
    "#mz_list = np.arange(minMz,maxMz, .001)\n",
    "#mz_list = np.round(mz_list,3)\n",
    "#df = pd.DataFrame(columns=rt_list, index = mz_list)\n",
    "#print(df)"
   ]
  },
  {
   "cell_type": "code",
   "execution_count": null,
   "metadata": {},
   "outputs": [],
   "source": [
    "\n",
    "#two ways - create 2d array of every possible combination and loop through that, or nested for loop\n",
    "#for r_step in rt_buckets:\n",
    "#    for m_step in mz_buckets:\n",
    "        #rt_list = np.arange(minRt, maxRt+.01, r_step)\n",
    "        #mz_list = np.arange(minMz,maxMz, m_step)\n",
    "        #mz_list = np.round(mz_list,3)\n",
    "        #df = pd.DataFrame(columns=rt_list, index = mz_list)\n",
    "\n",
    "        #mz_round = ([myround(m,m_step) for m in mz]) \n",
    "        #mz_round = ([np.round(m,3) for m in mz_round])\n",
    "        #rt_round = ([round(r*(1/r_step))/(1/r_step) for r in rt])\n",
    "\n"
   ]
  }
 ],
 "metadata": {
  "kernelspec": {
   "display_name": "Python 3",
   "language": "python",
   "name": "python3"
  },
  "language_info": {
   "codemirror_mode": {
    "name": "ipython",
    "version": 3
   },
   "file_extension": ".py",
   "mimetype": "text/x-python",
   "name": "python",
   "nbconvert_exporter": "python",
   "pygments_lexer": "ipython3",
   "version": "3.6.7"
  }
 },
 "nbformat": 4,
 "nbformat_minor": 2
}
