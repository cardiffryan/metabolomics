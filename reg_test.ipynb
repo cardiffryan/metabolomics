{
 "cells": [
  {
   "cell_type": "code",
   "execution_count": null,
   "metadata": {},
   "outputs": [],
   "source": [
    "#https://peerj.com/articles/453/\n",
    "from skimage import data, io\n",
    "import skimage.filters as filters\n",
    "import cv2 as cv\n",
    "import numpy as np\n",
    "import matplotlib.pyplot as plt\n",
    "\n",
    "image = cv.imread('/home/rcardiff/PNGImages/neg_CL1.png',0)\n",
    "image_crop = image[500:1000, 0:120]\n",
    "edges = filters.sobel(image_crop)\n",
    "io.imshow(edges)\n"
   ]
  },
  {
   "cell_type": "code",
   "execution_count": null,
   "metadata": {},
   "outputs": [],
   "source": [
    "fig, ax = plt.subplots(1, 1)\n",
    "ax.hist(image.ravel(), bins=8, range=[0, 256]) #ravel returns flattened 1d array\n",
    "ax.set_xlim(0, 256);"
   ]
  },
  {
   "cell_type": "code",
   "execution_count": null,
   "metadata": {},
   "outputs": [],
   "source": [
    "def image_show(image, nrows=1, ncols=1, cmap='gray'):\n",
    "    fig, ax = plt.subplots(nrows=nrows, ncols=ncols, figsize=(14, 14))\n",
    "    ax.imshow(image, cmap='gray')\n",
    "    ax.axis('off')\n",
    "    return fig, ax"
   ]
  },
  {
   "cell_type": "code",
   "execution_count": null,
   "metadata": {},
   "outputs": [],
   "source": [
    "from skimage.filters import threshold_adaptive\n",
    "\n",
    "bw = threshold_adaptive(image, 95, offset=-10)\n",
    "image_show(bw)\n"
   ]
  },
  {
   "cell_type": "code",
   "execution_count": null,
   "metadata": {},
   "outputs": [],
   "source": [
    "from skimage import feature\n",
    "\n",
    "edges = feature.canny(image_crop, sigma=1,\n",
    "                     low_threshold=1,\n",
    "                     high_threshold=25)\n",
    "\n",
    "image_show(edges)"
   ]
  },
  {
   "cell_type": "code",
   "execution_count": null,
   "metadata": {},
   "outputs": [],
   "source": [
    "image_threshold = filters.threshold_mean(image) \n",
    "image_show(image > image_threshold);"
   ]
  },
  {
   "cell_type": "code",
   "execution_count": null,
   "metadata": {},
   "outputs": [],
   "source": [
    "# Label image regions.\n",
    "from skimage.measure import regionprops\n",
    "import matplotlib.patches as mpatches\n",
    "from skimage.morphology import label\n",
    "\n",
    "label_image = label(edges)\n",
    "print(len(label_image))\n",
    "print(len(label_image[0]))\n",
    "print(label_image[200])\n",
    "\n",
    "#ax5 = plt.axes()\n",
    "fig, ax5 = plt.subplots(figsize=(14, 14))\n",
    "ax5.imshow(image, cmap=plt.cm.gray)\n",
    "ax5.axis('off')\n",
    "\n",
    "print(type(regionprops(label_image)))\n",
    "print(len(regionprops(label_image)))\n",
    "for region in regionprops(label_image):\n",
    "    # Draw rectangle around segmented coins.\n",
    "    minr, minc, maxr, maxc = region.bbox\n",
    "    rect = mpatches.Rectangle((minc, minr),\n",
    "                              maxc - minc,\n",
    "                              maxr - minr,\n",
    "                              fill=False,\n",
    "                              edgecolor='red',\n",
    "                              linewidth=1)\n",
    "    ax5.add_patch(rect)\n",
    "\n",
    "plt.tight_layout()\n",
    "plt.show()"
   ]
  },
  {
   "cell_type": "code",
   "execution_count": null,
   "metadata": {},
   "outputs": [],
   "source": [
    "props = regionprops(label_image)\n",
    "props[10].area"
   ]
  },
  {
   "cell_type": "code",
   "execution_count": null,
   "metadata": {},
   "outputs": [],
   "source": [
    "from skimage.morphology import watershed\n",
    "from scipy import ndimage as ndi\n",
    "\n",
    "from skimage.morphology import watershed\n",
    "from skimage.feature import peak_local_max\n",
    "\n",
    "distance = ndi.distance_transform_edt(image)\n",
    "local_maxi = peak_local_max(distance, indices=False, footprint=np.ones((3, 3)),\n",
    "                            labels=image)\n",
    "markers = ndi.label(local_maxi)[0]\n",
    "labels = watershed(-distance, markers, mask=image)\n",
    "\n",
    "fig, axes = plt.subplots(ncols=3, figsize=(10, 10), sharex=True, sharey=True)\n",
    "ax = axes.ravel()\n",
    "\n",
    "ax[0].imshow(image, cmap=plt.cm.gray)\n",
    "ax[0].set_title('Overlapping objects')\n",
    "ax[1].imshow(-distance, cmap=plt.cm.gray)\n",
    "ax[1].set_title('Distances')\n",
    "ax[2].imshow(labels, cmap=plt.cm.nipy_spectral)\n",
    "ax[2].set_title('Separated objects')\n",
    "\n"
   ]
  },
  {
   "cell_type": "code",
   "execution_count": null,
   "metadata": {},
   "outputs": [],
   "source": [
    "print(len(labels))"
   ]
  },
  {
   "cell_type": "code",
   "execution_count": null,
   "metadata": {},
   "outputs": [],
   "source": []
  }
 ],
 "metadata": {
  "kernelspec": {
   "display_name": "Python 3",
   "language": "python",
   "name": "python3"
  },
  "language_info": {
   "codemirror_mode": {
    "name": "ipython",
    "version": 3
   },
   "file_extension": ".py",
   "mimetype": "text/x-python",
   "name": "python",
   "nbconvert_exporter": "python",
   "pygments_lexer": "ipython3",
   "version": "3.6.7"
  }
 },
 "nbformat": 4,
 "nbformat_minor": 2
}
