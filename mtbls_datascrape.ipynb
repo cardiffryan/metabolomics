{
 "cells": [
  {
   "cell_type": "code",
   "execution_count": null,
   "metadata": {
    "jupyter": {
     "source_hidden": true
    }
   },
   "outputs": [],
   "source": [
    "import pandas as pd\n",
    "import numpy as np\n",
    "import math\n",
    "\n",
    "\n",
    "###MTBLS951\n",
    "\n",
    "### in a seperate cell because this csv gives delta between expected and measured values\n",
    "df = pd.read_csv('/home/rcardiff/ryan/ryan/public_data/ftp.ebi.ac.uk/pub/databases/metabolights/studies/public/MTBLS951/all_data_raw-1.csv')\n",
    "labels = np.zeros((len(df),2))\n",
    "\n",
    "for i, row in df.iterrows():\n",
    "    if math.isnan(row['RT.Delta']) and math.isnan(row['m.z..Delta.ppm..']):\n",
    "        labels[i] = [row['Expected.RT'],row['m.z..Expected.']]\n",
    "    elif math.isnan(row['RT.Delta']):\n",
    "        labels[i] = [row['Expected.RT'], row['m.z..Expected.'] + row['m.z..Delta.ppm..']]\n",
    "    elif math.isnan(row['m.z..Delta.ppm..']):\n",
    "        labels[i] = [row['Expected.RT'] + row['RT.Delta'], row['m.z..Expected.']]\n",
    "    else: \n",
    "        labels[i] = [row['Expected.RT'] + row['RT.Delta'], row['m.z..Expected.'] + row['m.z..Delta.ppm..']]"
   ]
  },
  {
   "cell_type": "code",
   "execution_count": 1,
   "metadata": {},
   "outputs": [
    {
     "name": "stderr",
     "output_type": "stream",
     "text": [
      "/root/miniconda3/lib/python3.7/site-packages/IPython/core/interactiveshell.py:3063: DtypeWarning: Columns (0,1,2,3,7) have mixed types.Specify dtype option on import or set low_memory=False.\n",
      "  interactivity=interactivity, compiler=compiler, result=result)\n"
     ]
    }
   ],
   "source": [
    "import pandas as pd\n",
    "import numpy as np\n",
    "\n",
    "mtbls_tsv = pd.read_csv('/home/rcardiff/ryan/ryan/public_data/ftp.ebi.ac.uk/pub/databases/metabolights/studies/public/MTBLS944/m_MTBLS944_metabolite_profiling_mass_spectrometry_v2_maf.tsv', sep = '\\t')\n",
    "labels = np.zeros((len(mtbls_tsv),2))\n",
    "for i, row in mtbls_tsv.iterrows():\n",
    "    labels[i] = (row['mass_to_charge'], row['retention_time'])"
   ]
  },
  {
   "cell_type": "code",
   "execution_count": null,
   "metadata": {},
   "outputs": [],
   "source": [
    "labels[0]"
   ]
  },
  {
   "cell_type": "code",
   "execution_count": null,
   "metadata": {},
   "outputs": [],
   "source": [
    "import cv2 as cv\n",
    "import matplotlib.pyplot as plt\n",
    "\n",
    "\n",
    "#template = np.zeros((100000,1500)) #for 0-1000mz and 0-30rt\n",
    "template = np.zeros((150000,1800))\n",
    "\n",
    "for f in labels:\n",
    "    #lower left position, width, height: (maxmz, minrt), maxrt-minrt, minmz-maxmz\n",
    "\n",
    "    start_point = int((f[1]*50)-5), int((f[0]*100)-10) #100px/mz, 5/6px/sec\n",
    "    end_point = int((f[1]*50)+5), int((f[0]*100)+10) \n",
    "    template = cv.rectangle(template, start_point, end_point, (255,255,255), -1) \n",
    "\n",
    "\n",
    "fig, ax = plt.subplots(figsize=(100,100))\n",
    "ax.imshow(template, cmap=plt.cm.gray)\n",
    "ax.axis('off')\n",
    "#cv.imwrite(\"/home/rcardiff/ryan/ryan/mtbls_predictions/mtbls951/label_mtbls951.png\", template)"
   ]
  },
  {
   "cell_type": "code",
   "execution_count": 5,
   "metadata": {},
   "outputs": [
    {
     "data": {
      "text/plain": [
       "True"
      ]
     },
     "execution_count": 5,
     "metadata": {},
     "output_type": "execute_result"
    }
   ],
   "source": [
    "cv.imwrite(\"/home/rcardiff/ryan/ryan/mtbls_predictions/mtbls944/label_mtbls944.png\", template)"
   ]
  },
  {
   "cell_type": "code",
   "execution_count": null,
   "metadata": {},
   "outputs": [],
   "source": [
    "'/home/rcardiff/ryan/ryan/public_data/ftp.ebi.ac.uk/pub/databases/metabolights/studies/public/MTBLS944'"
   ]
  }
 ],
 "metadata": {
  "kernelspec": {
   "display_name": "Python 3",
   "language": "python",
   "name": "python3"
  },
  "language_info": {
   "codemirror_mode": {
    "name": "ipython",
    "version": 3
   },
   "file_extension": ".py",
   "mimetype": "text/x-python",
   "name": "python",
   "nbconvert_exporter": "python",
   "pygments_lexer": "ipython3",
   "version": "3.7.6"
  }
 },
 "nbformat": 4,
 "nbformat_minor": 4
}
