{
 "cells": [
  {
   "cell_type": "code",
   "execution_count": 28,
   "metadata": {},
   "outputs": [],
   "source": [
    "from pyteomics import mzxml, auxiliary\n",
    "from matplotlib import pyplot as plt\n",
    "import numpy as np \n",
    "import os\n",
    "import pandas as pd\n",
    "import math\n",
    "import random\n",
    "from itertools import product\n",
    "\n",
    "f = \"/home/rcardiff/meyer_raw_data/C18_neg/CL/CL1.mzXML\"\n",
    "#f = '/home/rcardiff/ryan/ryan/meyer_raw_data/C18_neg/CL/CL7.mzXML'\n",
    "a = mzxml.read(f) \n",
    "\n",
    "rt, mz, intensity = ([] for i in range(3))\n",
    "\n",
    "for spectra in a:\n",
    "\tmz.append(spectra.get('m/z array'))\n",
    "\tintensity.append(spectra.get('intensity array'))\n",
    "\trt.append(spectra.get('retentionTime'))\n",
    "\n",
    "\n",
    "minMz = 0\n",
    "maxMz = 1000\n",
    "minRt = 0\n",
    "maxRt = 30\n",
    "\n",
    "\n",
    "#rt_buckets = np.linspace(.02,.25,5)\n",
    "#mz_buckets = np.linspace(.001, .01, 5)"
   ]
  },
  {
   "cell_type": "code",
   "execution_count": 2,
   "metadata": {},
   "outputs": [],
   "source": [
    "from pyteomics import mzxml, auxiliary\n",
    "from matplotlib import pyplot as plt\n",
    "import numpy as np \n",
    "import os\n",
    "import pandas as pd\n",
    "import math\n",
    "import random\n",
    "from itertools import product\n",
    "\n",
    "directory = \"/home/rcardiff/ryan/ryan/meyer_raw_data/C18_neg/CL/\"\n",
    "os.chdir(directory)\n",
    "files = os.listdir(directory)\n",
    "\n",
    "rt, mz, intensity = ([] for i in range(3))\n",
    "minMz = 0\n",
    "maxMz = 1000\n",
    "minRt = 0\n",
    "maxRt = 30\n",
    "\n",
    "for f in files:\n",
    "    if f.endswith(\".mzXML\"):\n",
    "        a = mzxml.read(f) \n",
    "        for spectra in a:\n",
    "            mz.append(spectra.get('m/z array'))\n",
    "            intensity.append(spectra.get('intensity array'))\n",
    "            rt.append(spectra.get('retentionTime'))\n"
   ]
  },
  {
   "cell_type": "code",
   "execution_count": 29,
   "metadata": {},
   "outputs": [
    {
     "name": "stdout",
     "output_type": "stream",
     "text": [
      "1608111\n",
      "1608111\n",
      "1608111\n",
      "1608111\n",
      "1608111\n"
     ]
    }
   ],
   "source": [
    "mz_out = np.concatenate(mz).ravel()\n",
    "\n",
    "\n",
    "rt_out = []\n",
    "n = len(mz)\n",
    "for i in range(n):\n",
    "    rt_out.append([rt[i]]*len(mz[i]))\n",
    "rt_out = np.concatenate(rt_out).ravel()\n",
    "i_out = np.concatenate(intensity).ravel()\n",
    "\n",
    "print(len(i_out))\n",
    "print(len(mz_out))\n",
    "print(len(rt_out))\n",
    "\n",
    "#rounding is very slow - is there a faster way?\n",
    "mz_round = [round(m1*(1/.001))/(1/.001) for m1 in mz_out]\n",
    "mz_round = ([np.round(m,3) for m in mz_round])\n",
    "mz_out = mz_round\n",
    "\n",
    "rt_round = ([round(r*(1/.02))/(1/.02) for r in rt_out])   \n",
    "rt_out = rt_round\n",
    "\n",
    "print(len(mz_out))\n",
    "print(len(rt_out))"
   ]
  },
  {
   "cell_type": "code",
   "execution_count": 30,
   "metadata": {},
   "outputs": [],
   "source": [
    "#rt_list = np.arange(minRt, maxRt+.001, .1)\n",
    "#rt_list = [np.round(r,3) for r in rt_list]\n",
    "mz_list = np.arange(minMz,maxMz, .001)\n",
    "mz_list = np.round(mz_list,3)\n",
    "\n",
    "zipped_data = list(zip(mz_out, rt_out, i_out))\n",
    "zipped_data = sorted(zipped_data, key = lambda tup : tup[0])\n",
    "from tqdm import tqdm_notebook as tqdm"
   ]
  },
  {
   "cell_type": "code",
   "execution_count": 25,
   "metadata": {},
   "outputs": [
    {
     "name": "stdout",
     "output_type": "stream",
     "text": [
      "69.985\n",
      "69.984\n"
     ]
    }
   ],
   "source": [
    "print(zipped_data[3][0])\n",
    "print(mz_list[70000-16])"
   ]
  },
  {
   "cell_type": "code",
   "execution_count": null,
   "metadata": {},
   "outputs": [],
   "source": [
    "#NOT THIS ONE\n",
    "import csv\n",
    "\n",
    "print(len(mz_out))\n",
    "#min_mz_out = min(mz_out)\n",
    "min_mz_out = 150\n",
    "#max_mz_out = max(mz_out)\n",
    "max_mz_out = 250\n",
    "with open('/home/rcardiff/combined_test2_highres.csv', 'w') as f:\n",
    "    writer = csv.writer(f, delimiter=',')\n",
    "    #writer.writerow(rt_list)\n",
    "    for mz in tqdm(mz_list):\n",
    "        col = np.zeros(int(30/.02)+1)\n",
    "        if mz < min_mz_out:\n",
    "            writer.writerow(col)\n",
    "            continue\n",
    "        if mz > max_mz_out:\n",
    "            writer.writerow(col)\n",
    "            continue\n",
    "            \n",
    "        indices = [i for i, x in enumerate(mz_out) if x == mz]\n",
    "        rt_i = [rt_out[i] for i in indices] \n",
    "        i_i = [i_out[i] for i in indices]\n",
    "\n",
    "        for i in rt_i:\n",
    "            col[int(i/.02)] += i_i[rt_i.index(i)]\n",
    "        mz_out = np.delete(mz_out,indices)\n",
    "        rt_out = np.delete(rt_out,indices)\n",
    "        i_out = np.delete(i_out,indices)\n",
    "        writer.writerow(col)\n",
    "print(len(mz_out))"
   ]
  },
  {
   "cell_type": "code",
   "execution_count": 31,
   "metadata": {},
   "outputs": [
    {
     "name": "stdout",
     "output_type": "stream",
     "text": [
      "1608111\n"
     ]
    },
    {
     "data": {
      "application/vnd.jupyter.widget-view+json": {
       "model_id": "d5a068a7d6194722a7c39f3f218014f8",
       "version_major": 2,
       "version_minor": 0
      },
      "text/plain": [
       "HBox(children=(IntProgress(value=0, max=1000000), HTML(value='')))"
      ]
     },
     "metadata": {},
     "output_type": "display_data"
    },
    {
     "name": "stdout",
     "output_type": "stream",
     "text": [
      "\n",
      "Done\n"
     ]
    }
   ],
   "source": [
    "#YES THIS ONE\n",
    "import csv\n",
    "\n",
    "print(len(mz_out))\n",
    "#min_mz_out = min(mz_out)\n",
    "min_mz_out = 150\n",
    "#max_mz_out = max(mz_out)\n",
    "max_mz_out = 250\n",
    "\n",
    "mz_loc = 0\n",
    "with open('/home/rcardiff/high_res_test/neg_CL6.csv', 'w') as f:\n",
    "    writer = csv.writer(f, delimiter=',')\n",
    "    for mz in tqdm(mz_list):\n",
    "        col = np.zeros(int(30/.02)+1)\n",
    "        if mz < min_mz_out:\n",
    "            #writer.writerow(col)\n",
    "            continue\n",
    "        if mz > max_mz_out:\n",
    "            #writer.writerow(col)\n",
    "            continue\n",
    "            \n",
    "        while zipped_data[mz_loc][0] <= mz:\n",
    "            rt = zipped_data[mz_loc][1]\n",
    "            i = zipped_data[mz_loc][2]\n",
    "            col[int(rt/.02)] += i\n",
    "            mz_loc += 1\n",
    "        writer.writerow(col)\n",
    "print(\"Done\")"
   ]
  },
  {
   "cell_type": "code",
   "execution_count": 31,
   "metadata": {},
   "outputs": [
    {
     "name": "stdout",
     "output_type": "stream",
     "text": [
      "7437888\n"
     ]
    }
   ],
   "source": [
    "print(mz_loc)"
   ]
  },
  {
   "cell_type": "code",
   "execution_count": null,
   "metadata": {},
   "outputs": [],
   "source": [
    "#not this one\n",
    "indices = [i for i, x in enumerate(mz_out) if x == mz]\n",
    "#         if len(indices) > 0:\n",
    "#             break\n",
    "rt_i = [rt_out[i] for i in indices] \n",
    "i_i = [i_out[i] for i in indices]\n",
    "\n",
    "col = np.zeros(int(30/.02)+1)\n",
    "for i in rt_i:\n",
    "    col[int(i/.02)] += i_i[rt_i.index(i)]\n",
    "mz_out = np.delete(mz_out,indices)\n",
    "rt_out = np.delete(rt_out,indices)\n",
    "i_out = np.delete(i_out,indices)\n",
    "writer.writerow(col)"
   ]
  },
  {
   "cell_type": "code",
   "execution_count": 32,
   "metadata": {},
   "outputs": [
    {
     "data": {
      "text/plain": [
       "True"
      ]
     },
     "execution_count": 32,
     "metadata": {},
     "output_type": "execute_result"
    }
   ],
   "source": [
    "#run time ~2 min \n",
    "#https://stackoverflow.com/questions/902761/saving-a-numpy-array-as-an-image\n",
    "from numpy import genfromtxt\n",
    "import numpy as np\n",
    "import os\n",
    "#from PIL import Image\n",
    "#import i\"mageio\n",
    "#import matplotlib.image\n",
    "import cv2\n",
    "\n",
    "f = \"/home/rcardiff/high_res_test/neg_CL6.csv\"\n",
    "\n",
    "image_array = genfromtxt(f, delimiter=',')\n",
    "image_array = image_array.astype('float64')\n",
    "\n",
    "cv2.imwrite(\"/home/rcardiff/high_res_test/neg_CL7.png\", image_array)"
   ]
  },
  {
   "cell_type": "code",
   "execution_count": null,
   "metadata": {},
   "outputs": [],
   "source": [
    "#image_array /= np.max(image_array)\n",
    "#image_array *= 255\n",
    "#img = Image.fromarray(image_array, 'L')\n",
    "#img.save('/home/rcardiff/grid_test3.png')\n",
    "\n",
    "\n",
    "#no image\n",
    "#imageio.imwrite('outfile.jpg', image_array)\n",
    "\n",
    "#no features\n",
    "#matplotlib.image.imsave('name.png', image_array)\n",
    "\n"
   ]
  },
  {
   "cell_type": "code",
   "execution_count": null,
   "metadata": {},
   "outputs": [],
   "source": [
    "print(len(image_array[0]))\n",
    "print(len(image_array))\n",
    "\n",
    "def first_nonzero(arr, axis, invalid_val=-1):\n",
    "    mask = arr!=0\n",
    "    return np.where(mask.any(axis=axis), mask.argmax(axis=axis), invalid_val)\n",
    "\n",
    "d = first_nonzero(image_array, axis=1, invalid_val=0)\n",
    "np.set_printoptions(threshold=np.inf)\n",
    "print(np.nonzero(d)[0][0])"
   ]
  },
  {
   "cell_type": "code",
   "execution_count": null,
   "metadata": {},
   "outputs": [],
   "source": [
    "#run time ~1min for 1500x80000 image\n",
    "import cv2 as cv\n",
    "import numpy as np\n",
    "import matplotlib.pyplot as plt\n",
    "from skimage import feature\n",
    "from skimage.measure import regionprops\n",
    "import matplotlib.patches as mpatches\n",
    "from skimage.morphology import label\n",
    "import pandas as pd\n",
    "\n",
    "image = cv.imread('/home/rcardiff/combined_img.png',0)\n",
    "\n",
    "edges = feature.canny(image, sigma=1.5,\n",
    "                     low_threshold=193,\n",
    "                     high_threshold=225)\n",
    "\n",
    "\n",
    "# Label image regions.\n",
    "label_image = label(edges)\n",
    "print(len(regionprops(label_image)))\n",
    "\n",
    "\n"
   ]
  },
  {
   "cell_type": "code",
   "execution_count": null,
   "metadata": {},
   "outputs": [],
   "source": [
    "#run time ~1min for 1500x80000 image\n",
    "import cv2 as cv\n",
    "import numpy as np\n",
    "import matplotlib.pyplot as plt\n",
    "from skimage import feature\n",
    "from skimage.measure import regionprops\n",
    "import matplotlib.patches as mpatches\n",
    "from skimage.morphology import label\n",
    "import pandas as pd\n",
    "\n",
    "image = cv.imread('/home/rcardiff/combined_img.png',0)\n",
    "image = image[10000:11000]\n",
    "edges = feature.canny(image, sigma=.5,\n",
    "                     low_threshold=193,\n",
    "                     high_threshold=225)\n",
    "\n",
    "\n",
    "# Label image regions.\n",
    "label_image = label(edges)\n",
    "print(len(regionprops(label_image)))\n",
    "\n",
    "fig, ax5 = plt.subplots(figsize=(14, 14))\n",
    "ax5.imshow(image, cmap=plt.cm.gray)\n",
    "ax5.axis('off')\n",
    "\n",
    "for region in regionprops(label_image):\n",
    "    # Draw rectangle around segmented coins.\n",
    "    minr, minc, maxr, maxc = region.bbox\n",
    "    rect = mpatches.Rectangle((minc, minr),\n",
    "                              maxc - minc,\n",
    "                              maxr - minr,\n",
    "                              fill=False,\n",
    "                              edgecolor='red',\n",
    "                              linewidth=1)\n",
    "    ax5.add_patch(rect)\n",
    "    \n",
    "plt.tight_layout()\n",
    "plt.show()"
   ]
  },
  {
   "cell_type": "code",
   "execution_count": null,
   "metadata": {},
   "outputs": [],
   "source": [
    "#run time <1 min\n",
    "data = {'Feature':[],'min_mz':[],'max_mz':[],'mean_mz':[],'min_rt':[],'max_rt':[],'mean_rt':[]}\n",
    "df = pd.DataFrame(data)\n",
    "c = 0\n",
    "for region in regionprops(label_image):\n",
    "    min_mz, min_rt, max_mz, max_rt = region.bbox\n",
    "    r = pd.Series(['FT'+str(c), (min_mz/100), (max_mz/100), (np.mean([min_mz, max_mz])/100), min_rt*1.2, max_rt*1.2, np.mean([min_rt, max_rt])*1.2], index = ['Feature','min_mz','max_mz','mean_mz','min_rt','max_rt','mean_rt'])\n",
    "    df = df.append(r,ignore_index = True)\n",
    "    c+=1\n",
    "df.to_csv('/home/rcardiff/feature_test_1217-2.tsv', sep = '\\t')"
   ]
  },
  {
   "cell_type": "code",
   "execution_count": null,
   "metadata": {},
   "outputs": [],
   "source": [
    "image = cv.imread('/home/rcardiff/combined_img.png',0)\n",
    "fig, ax = plt.subplots(1, 1)\n",
    "ax.hist(image.ravel(), bins=8, range=[0, 256]) #ravel returns flattened 1d array\n",
    "ax.set_xlim(32, 193);\n",
    "ax.set_ylim(0,10)"
   ]
  },
  {
   "cell_type": "code",
   "execution_count": null,
   "metadata": {},
   "outputs": [],
   "source": []
  }
 ],
 "metadata": {
  "kernelspec": {
   "display_name": "Python 3",
   "language": "python",
   "name": "python3"
  },
  "language_info": {
   "codemirror_mode": {
    "name": "ipython",
    "version": 3
   },
   "file_extension": ".py",
   "mimetype": "text/x-python",
   "name": "python",
   "nbconvert_exporter": "python",
   "pygments_lexer": "ipython3",
   "version": "3.6.7"
  }
 },
 "nbformat": 4,
 "nbformat_minor": 2
}
