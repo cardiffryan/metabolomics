{
 "cells": [
  {
   "cell_type": "code",
   "execution_count": 28,
   "metadata": {
    "jupyter": {
     "source_hidden": true
    }
   },
   "outputs": [],
   "source": [
    "from pyteomics import mzxml, auxiliary\n",
    "from matplotlib import pyplot as plt\n",
    "import numpy as np \n",
    "import os\n",
    "import pandas as pd\n",
    "import math\n",
    "import random\n",
    "from itertools import product\n",
    "\n",
    "f = \"/home/rcardiff/meyer_raw_data/C18_neg/CL/CL1.mzXML\"\n",
    "#f = '/home/rcardiff/ryan/ryan/meyer_raw_data/C18_neg/CL/CL7.mzXML'\n",
    "a = mzxml.read(f) \n",
    "\n",
    "rt, mz, intensity = ([] for i in range(3))\n",
    "\n",
    "for spectra in a:\n",
    "\tmz.append(spectra.get('m/z array'))\n",
    "\tintensity.append(spectra.get('intensity array'))\n",
    "\trt.append(spectra.get('retentionTime'))\n",
    "\n",
    "\n",
    "minMz = 0\n",
    "maxMz = 1000\n",
    "minRt = 0\n",
    "maxRt = 30\n",
    "\n",
    "\n",
    "#rt_buckets = np.linspace(.02,.25,5)\n",
    "#mz_buckets = np.linspace(.001, .01, 5)"
   ]
  },
  {
   "cell_type": "markdown",
   "metadata": {},
   "source": [
    "#### Read mzxml files and scrape mz, rt, and intensity data"
   ]
  },
  {
   "cell_type": "code",
   "execution_count": 1,
   "metadata": {},
   "outputs": [
    {
     "name": "stdout",
     "output_type": "stream",
     "text": [
      "Done\n"
     ]
    }
   ],
   "source": [
    "from pyteomics import mzxml, auxiliary\n",
    "from matplotlib import pyplot as plt\n",
    "import numpy as np \n",
    "import os\n",
    "import pandas as pd\n",
    "import math\n",
    "import random\n",
    "from itertools import product\n",
    "from tqdm import tqdm_notebook as tqdm\n",
    "\n",
    "\n",
    "directory = \"/home/rcardiff/ryan/ryan/public_data/ftp.ebi.ac.uk/pub/databases/metabolights/studies/public/MTBLS944/\"\n",
    "os.chdir(directory)\n",
    "files = os.listdir(directory)\n",
    "\n",
    "rt, mz, intensity = ([] for i in range(3))\n",
    "minMz = 0\n",
    "maxMz = 1000\n",
    "minRt = 0\n",
    "maxRt = 30\n",
    "\n",
    "for f in files:\n",
    "    if f.endswith(\".mzXML\"):\n",
    "        a = mzxml.read(f) \n",
    "        for spectra in a:\n",
    "            #mz.append(np.round(spectra.get('m/z array'), 2))\n",
    "            intensity.append(spectra.get('intensity array'))\n",
    "            #rt.append(round(spectra.get('retentionTime')*(1/.02))/(1/.02))\n",
    "print(\"Done\")\n",
    "\n",
    "#np.save('/home/rcardiff/ryan/ryan/public_data/test_msconvert/mz.npy', mz)\n",
    "#np.save('/home/rcardiff/ryan/ryan/public_data/test_msconvert/rt.npy', rt)\n",
    "np.save('/home/rcardiff/ryan/ryan/public_data/test_msconvert/intensity.npy', intensity)"
   ]
  },
  {
   "cell_type": "code",
   "execution_count": null,
   "metadata": {},
   "outputs": [],
   "source": [
    "n = []\n",
    "for i in range(len(mz)):\n",
    "    n.append(len(mz[i]))\n",
    "n = np.save('/home/rcardiff/ryan/ryan/public_data/test_msconvert/n.npy')"
   ]
  },
  {
   "cell_type": "code",
   "execution_count": 2,
   "metadata": {},
   "outputs": [],
   "source": [
    "del mz\n",
    "del mz_out\n"
   ]
  },
  {
   "cell_type": "code",
   "execution_count": 9,
   "metadata": {
    "jupyter": {
     "source_hidden": true
    }
   },
   "outputs": [],
   "source": [
    "rt_out = []\n",
    "for i in range(len(n)):\n",
    "    rt_out.append([rt[i]]*n[i])\n",
    "rt_out = np.concatenate(rt_out).ravel()\n",
    "\n",
    "np.save('/home/rcardiff/ryan/ryan/public_data/test_msconvert/rt_out.npy', rt_out)\n"
   ]
  },
  {
   "cell_type": "code",
   "execution_count": null,
   "metadata": {
    "jupyter": {
     "source_hidden": true
    }
   },
   "outputs": [],
   "source": [
    "from pyteomics import mzxml, auxiliary\n",
    "from matplotlib import pyplot as plt\n",
    "import numpy as np \n",
    "import os\n",
    "import pandas as pd\n",
    "import math\n",
    "import random\n",
    "from itertools import product\n",
    "from tqdm import tqdm_notebook as tqdm\n",
    "\n",
    "\n",
    "directory = \"/home/rcardiff/ryan/ryan/public_data/test_msconvert/MTBLS1115/\"\n",
    "os.chdir(directory)\n",
    "files = os.listdir(directory)\n",
    "\n",
    "rt, mz, intensity = ([] for i in range(3))\n",
    "minMz = 0\n",
    "maxMz = 1000\n",
    "minRt = 0\n",
    "maxRt = 30\n",
    "\n",
    "for f in files:\n",
    "    if f.endswith(\".mzXML\"):\n",
    "        a = mzxml.read(f) \n",
    "        for spectra in a:\n",
    "            mz.append(spectra.get('m/z array'))\n",
    "            intensity.append(spectra.get('intensity array'))\n",
    "            rt.append(spectra.get('retentionTime'))\n",
    "print(\"Done\")"
   ]
  },
  {
   "cell_type": "code",
   "execution_count": 1,
   "metadata": {
    "jupyter": {
     "source_hidden": true
    }
   },
   "outputs": [],
   "source": [
    "import numpy as np\n",
    "\n",
    "mz = np.load('/home/rcardiff/ryan/ryan/public_data/test_msconvert/mz.npy', allow_pickle = True)\n",
    "rt = np.load('/home/rcardiff/ryan/ryan/public_data/test_msconvert/rt.npy', allow_pickle = True)\n",
    "intensity = np.load('/home/rcardiff/ryan/ryan/public_data/test_msconvert/intensity.npy', allow_pickle = True)"
   ]
  },
  {
   "cell_type": "code",
   "execution_count": null,
   "metadata": {},
   "outputs": [],
   "source": [
    "mz_out = np.concatenate(mz).ravel()\n",
    "\n",
    "rt_out = []\n",
    "n = len(mz)\n",
    "for i in range(n):\n",
    "    rt_out.append([rt[i]]*len(mz[i]))\n",
    "rt_out = np.concatenate(rt_out).ravel()\n",
    "i_out = np.concatenate(intensity).ravel()\n",
    "\n",
    "print(len(mz_out))"
   ]
  },
  {
   "cell_type": "code",
   "execution_count": 23,
   "metadata": {
    "jupyter": {
     "source_hidden": true
    }
   },
   "outputs": [],
   "source": [
    "import numpy as np\n",
    "from tqdm import tqdm_notebook as tqdm\n",
    "\n",
    "np.save('/home/rcardiff/ryan/ryan/mz_out.npy', mz_out)\n",
    "np.save('/home/rcardiff/ryan/ryan/rt_out.npy', rt_out)\n",
    "np.save('/home/rcardiff/ryan/ryan/i_out.npy', i_out)\n",
    "\n",
    "#mz_out = np.load('/home/rcardiff/ryan/ryan/mz_out.npy') #, allow_pickle =True)\n",
    "# rt_out = np.load('/home/rcardiff/ryan/ryan/rt_out.npy') #, allow_pickle = True)\n",
    "# i_out = np.load('/home/rcardiff/ryan/ryan/i_out.npy') #, allow_pickle = True)"
   ]
  },
  {
   "cell_type": "code",
   "execution_count": 12,
   "metadata": {},
   "outputs": [],
   "source": [
    "from joblib import Parallel, delayed"
   ]
  },
  {
   "cell_type": "markdown",
   "metadata": {},
   "source": [
    "#### Sort mz, rt, and intensity values by mz value"
   ]
  },
  {
   "cell_type": "code",
   "execution_count": null,
   "metadata": {},
   "outputs": [],
   "source": [
    "max(mz_out)"
   ]
  },
  {
   "cell_type": "code",
   "execution_count": null,
   "metadata": {
    "jupyter": {
     "source_hidden": true
    }
   },
   "outputs": [],
   "source": [
    "from tqdm.notebook import tqdm as tqdm\n",
    "\n",
    "#rounding is very slow - is there a faster way?\n",
    "\n",
    "mz_round = tqdm([round(m1*(1/.01))/(1/.01) for m1 in mz_out])\n",
    "#mz_round = ([np.round(m,3) for m in mz_round])\n",
    "mz_out = mz_round\n",
    "\n",
    "rt_round = ([round(r*(1/.02))/(1/.02) for r in rt_out])   \n",
    "rt_out = rt_round\n",
    "\n",
    "print(len(mz_out))\n",
    "print(\"Done\")"
   ]
  },
  {
   "cell_type": "code",
   "execution_count": 24,
   "metadata": {},
   "outputs": [
    {
     "name": "stdout",
     "output_type": "stream",
     "text": [
      "100000\n"
     ]
    }
   ],
   "source": [
    "import numpy as np\n",
    "import pandas as pd\n",
    "\n",
    "#mz_out = np.load('/home/rcardiff/ryan/ryan/mz_out.npy') #, allow_pickle =True)\n",
    "# rt_out = np.load('/home/rcardiff/ryan/ryan/rt_out.npy') #, allow_pickle = True)\n",
    "# i_out = np.load('/home/rcardiff/ryan/ryan/i_out.npy') #, allow_pickle = True)\n",
    "\n",
    "minMz = 0\n",
    "maxMz = 1000\n",
    "\n",
    "mz_list = np.arange(minMz,maxMz, .01)\n",
    "mz_list = np.round(mz_list,2)\n",
    "print(len(mz_list))\n",
    "\n",
    "sort_args = np.argsort(mz_out)\n",
    "\n",
    "# df_zipped = pd.DataFrame({'mz' : mz_out, 'rt' : rt_out, 'i' : i_out})\n",
    "# zipped_data = list(zip(mz_out, rt_out, i_out))\n",
    "#zipped_data = sorted(zipped_data, key = lambda tup : tup[0])\n",
    "from tqdm import tqdm_notebook as tqdm"
   ]
  },
  {
   "cell_type": "code",
   "execution_count": 4,
   "metadata": {},
   "outputs": [],
   "source": [
    "#rt_out = np.load('/home/rcardiff/ryan/ryan/rt_out.npy') #, allow_pickle = True)\n",
    "#i_out = np.load('/home/rcardiff/ryan/ryan/i_out.npy') #, allow_pickle = True)\n"
   ]
  },
  {
   "cell_type": "code",
   "execution_count": 25,
   "metadata": {},
   "outputs": [],
   "source": [
    "mz_out = mz_out[sort_args]\n",
    "rt_out = rt_out[sort_args]\n",
    "i_out = i_out[sort_args]"
   ]
  },
  {
   "cell_type": "code",
   "execution_count": 26,
   "metadata": {},
   "outputs": [],
   "source": [
    "del sort_args"
   ]
  },
  {
   "cell_type": "code",
   "execution_count": 21,
   "metadata": {},
   "outputs": [
    {
     "data": {
      "text/plain": [
       "array([ 2.3 , 23.22, 27.86, 25.06, 25.6 , 21.88, 27.6 , 27.86, 23.46,\n",
       "       14.6 , 17.62, 27.58, 22.38, 14.56, 27.1 , 19.2 , 24.26,  8.16,\n",
       "       22.6 , 23.44,  3.96, 28.48, 15.8 , 27.1 , 28.76, 24.44,  7.44,\n",
       "        1.66,  1.46, 23.52, 23.42,  1.16, 23.4 ,  1.46, 23.66,  1.16,\n",
       "       18.18,  1.6 ,  1.6 ,  1.56,  1.56, 23.68,  1.66, 23.26,  1.6 ,\n",
       "        1.16, 16.62,  1.6 ,  4.38,  1.6 ,  4.38,  0.34,  1.58,  1.46,\n",
       "       23.26,  4.96, 23.26, 22.98,  0.34, 23.66, 23.52,  1.64, 23.42,\n",
       "        0.34,  1.56,  1.46, 23.68,  1.58, 18.48,  4.38, 23.52,  1.16,\n",
       "        1.6 ,  1.16,  1.56,  4.38,  1.16,  4.48,  1.46,  1.56,  4.48,\n",
       "       10.02,  1.66,  1.58, 18.18,  1.6 ,  4.38,  1.64,  1.58,  1.56,\n",
       "        1.6 ,  1.56,  1.46,  1.66, 10.02,  1.46,  1.56, 16.62, 16.62,\n",
       "        1.58, 18.18,  0.34,  1.6 ,  1.64,  0.34,  1.66,  4.38,  4.38,\n",
       "        1.6 ,  1.56,  0.34, 10.02,  1.56,  1.66, 18.18,  1.58, 16.62,\n",
       "       18.18, 16.62, 18.48,  1.58,  1.6 ,  4.48,  1.6 ,  1.58,  1.58,\n",
       "        1.58,  4.96, 10.02,  1.58,  4.38,  1.66,  1.58, 16.62,  1.66,\n",
       "        1.6 ,  0.34,  4.96, 18.48,  1.56,  4.48, 18.48,  4.96,  1.58,\n",
       "        1.58,  0.34,  4.96,  1.16,  4.96,  4.96,  0.34, 18.18, 18.18,\n",
       "        0.34,  4.48, 16.62,  0.34,  4.48, 10.02,  0.34,  4.96, 10.02,\n",
       "        0.34,  4.38,  0.34,  0.34, 16.62, 18.48,  4.96, 18.18, 18.18,\n",
       "       16.62,  4.96, 10.02,  1.16,  4.48, 18.18,  4.48,  4.38,  0.34,\n",
       "        0.34, 16.62,  0.34,  4.48,  0.34,  4.38,  4.48, 16.62,  0.34,\n",
       "        4.96,  4.38,  1.16,  4.48,  4.38,  4.38, 10.02,  4.96,  4.38,\n",
       "        1.16,  4.96])"
      ]
     },
     "execution_count": 21,
     "metadata": {},
     "output_type": "execute_result"
    }
   ],
   "source": [
    "mz_out[-200:]\n",
    "rt_out[-200:]"
   ]
  },
  {
   "cell_type": "markdown",
   "metadata": {},
   "source": [
    "#### Create csv grid of mz vs. rt space"
   ]
  },
  {
   "cell_type": "code",
   "execution_count": 27,
   "metadata": {},
   "outputs": [
    {
     "name": "stdout",
     "output_type": "stream",
     "text": [
      "28697509\n"
     ]
    },
    {
     "name": "stderr",
     "output_type": "stream",
     "text": [
      "/root/miniconda3/lib/python3.7/site-packages/ipykernel_launcher.py:15: TqdmDeprecationWarning: This function will be removed in tqdm==5.0.0\n",
      "Please use `tqdm.notebook.tqdm` instead of `tqdm.tqdm_notebook`\n",
      "  from ipykernel import kernelapp as app\n"
     ]
    },
    {
     "data": {
      "application/vnd.jupyter.widget-view+json": {
       "model_id": "135713ee9ab54739b4181618ca4e9d41",
       "version_major": 2,
       "version_minor": 0
      },
      "text/plain": [
       "HBox(children=(FloatProgress(value=0.0, max=100000.0), HTML(value='')))"
      ]
     },
     "metadata": {},
     "output_type": "display_data"
    },
    {
     "name": "stdout",
     "output_type": "stream",
     "text": [
      "\n",
      "Done\n"
     ]
    }
   ],
   "source": [
    "#YES THIS ONE\n",
    "import csv\n",
    "from tqdm import tqdm_notebook as tqdm\n",
    "from ipywidgets import IntProgress\n",
    "\n",
    "print(len(mz_out))\n",
    "min_mz_out = min(mz_out)\n",
    "#min_mz_out = 150\n",
    "max_mz_out = max(mz_out)\n",
    "#max_mz_out = 250\n",
    "\n",
    "mz_loc = 0\n",
    "with open('/home/rcardiff/ryan/ryan/mtbls_predictions/mtbls951/mtbls951-short.csv', 'w') as f:\n",
    "    writer = csv.writer(f, delimiter=',')\n",
    "    for mz in tqdm(mz_list):\n",
    "    #for mz in mz_list:\n",
    "        col = np.zeros(int(30/.02)+1)\n",
    "        if mz < min_mz_out:\n",
    "            writer.writerow(col)\n",
    "            continue\n",
    "        if mz > max_mz_out:\n",
    "            writer.writerow(col)\n",
    "            continue\n",
    "            \n",
    "        while mz_out[mz_loc]<= mz:\n",
    "            rt = rt_out[mz_loc]\n",
    "            i = i_out[mz_loc]\n",
    "            col[int(rt/.02)] += i\n",
    "            mz_loc += 1\n",
    "            if mz_loc == len(mz_out):\n",
    "                break\n",
    "        writer.writerow(col)\n",
    "print(\"Done\")"
   ]
  },
  {
   "cell_type": "code",
   "execution_count": 28,
   "metadata": {},
   "outputs": [
    {
     "name": "stdout",
     "output_type": "stream",
     "text": [
      "28697348\n",
      "28697509\n",
      "3201.94\n",
      "999.99\n",
      "998.21\n"
     ]
    }
   ],
   "source": [
    "print(mz_loc)\n",
    "print(len(mz_out))\n",
    "print(max_mz_out)\n",
    "print(mz)\n",
    "print(mz_out[mz_loc-1])"
   ]
  },
  {
   "cell_type": "markdown",
   "metadata": {},
   "source": [
    "#### Create image from csv grid"
   ]
  },
  {
   "cell_type": "code",
   "execution_count": null,
   "metadata": {},
   "outputs": [],
   "source": [
    "#https://stackoverflow.com/questions/902761/saving-a-numpy-array-as-an-image\n",
    "from numpy import genfromtxt\n",
    "import numpy as np\n",
    "import os\n",
    "#from PIL import Image\n",
    "#import imageio\n",
    "#import matplotlib.image\n",
    "import cv2\n",
    "\n",
    "\n",
    "f = \"/home/rcardiff/ryan/ryan/mtbls_predictions/mtbls951/mtbls951-short.csv\"\n",
    "\n",
    "image_array = genfromtxt(f, delimiter=',')\n",
    "image_array = image_array.astype('float64')\n",
    "\n",
    "#cv2.imwrite(\"/home/rcardiff/ryan/ryan/meyer_pos.png\", image_array)"
   ]
  },
  {
   "cell_type": "code",
   "execution_count": 30,
   "metadata": {},
   "outputs": [],
   "source": [
    "#https://stackoverflow.com/questions/8956832/python-out-of-memory-on-large-csv-file-numpy\n",
    "import numpy as np\n",
    "\n",
    "def iter_loadtxt(filename, delimiter=',', skiprows=0, dtype=float):\n",
    "    def iter_func():\n",
    "        with open(filename, 'r') as infile:\n",
    "            for _ in range(skiprows):\n",
    "                next(infile)\n",
    "            for line in infile:\n",
    "                line = line.rstrip().split(delimiter)\n",
    "                for item in line:\n",
    "                    yield dtype(item)\n",
    "        iter_loadtxt.rowlength = len(line)\n",
    "\n",
    "    image_array = np.fromiter(iter_func(), dtype=dtype)\n",
    "    image_array = image_array.reshape((-1, iter_loadtxt.rowlength))\n",
    "    return image_array\n",
    "image_array = iter_loadtxt(filename = '/home/rcardiff/ryan/ryan/mtbls_predictions/mtbls951/mtbls951-short.csv')"
   ]
  },
  {
   "cell_type": "code",
   "execution_count": 9,
   "metadata": {},
   "outputs": [],
   "source": []
  },
  {
   "cell_type": "code",
   "execution_count": 31,
   "metadata": {},
   "outputs": [
    {
     "data": {
      "text/plain": [
       "(100000, 1501)"
      ]
     },
     "execution_count": 31,
     "metadata": {},
     "output_type": "execute_result"
    }
   ],
   "source": [
    "image_array.shape"
   ]
  },
  {
   "cell_type": "code",
   "execution_count": 32,
   "metadata": {},
   "outputs": [
    {
     "data": {
      "text/plain": [
       "True"
      ]
     },
     "execution_count": 32,
     "metadata": {},
     "output_type": "execute_result"
    }
   ],
   "source": [
    "import cv2\n",
    "\n",
    "cv2.imwrite(\"/home/rcardiff/ryan/ryan/mtbls951-short.png\", image_array)"
   ]
  },
  {
   "cell_type": "code",
   "execution_count": null,
   "metadata": {},
   "outputs": [],
   "source": [
    "import csv\n",
    "\n",
    "results = []\n",
    "\n",
    "with open(\"/home/rcardiff/ryan/ryan/neg_CL_IC_110520.csv\") as csvfile:\n",
    "    reader = csv.reader(csvfile, quoting=csv.QUOTE_NONNUMERIC) # change contents to floats\n",
    "    for row in reader: # each row is a list\n",
    "        results.append(row)"
   ]
  },
  {
   "cell_type": "code",
   "execution_count": null,
   "metadata": {},
   "outputs": [],
   "source": [
    "print(len(image_array[0]))\n",
    "print(len(image_array))\n",
    "\n",
    "def first_nonzero(arr, axis, invalid_val=-1):\n",
    "    mask = arr!=0\n",
    "    return np.where(mask.any(axis=axis), mask.argmax(axis=axis), invalid_val)\n",
    "\n",
    "d = first_nonzero(image_array, axis=1, invalid_val=0)\n",
    "np.set_printoptions(threshold=np.inf)\n",
    "print(np.nonzero(d)[0][0])"
   ]
  },
  {
   "cell_type": "code",
   "execution_count": null,
   "metadata": {},
   "outputs": [],
   "source": [
    "#run time ~1min for 1500x80000 image\n",
    "import cv2 as cv\n",
    "import numpy as np\n",
    "import matplotlib.pyplot as plt\n",
    "from skimage import feature\n",
    "from skimage.measure import regionprops\n",
    "import matplotlib.patches as mpatches\n",
    "from skimage.morphology import label\n",
    "import pandas as pd\n",
    "from skimage import color \n",
    "import os\n",
    "\n",
    "image = cv.imread(\"/home/rcardiff/ryan/ryan/test_files/combined_img-3.png\",0)\n",
    "#image = color.rgb2gray(image)\n",
    "\n",
    "edges = feature.canny(image, sigma=1.5,\n",
    "                     low_threshold=193,\n",
    "                     high_threshold=225)\n",
    "\n",
    "\n",
    "# Label image regions.\n",
    "label_image = label(edges)\n",
    "print(len(regionprops(label_image)))\n",
    "\n",
    "\n"
   ]
  },
  {
   "cell_type": "code",
   "execution_count": 1,
   "metadata": {},
   "outputs": [
    {
     "name": "stdout",
     "output_type": "stream",
     "text": [
      "3479\n"
     ]
    },
    {
     "data": {
      "image/png": "[encoded data removed]",
      "text/plain": [
       "<Figure size 1008x1008 with 1 Axes>"
      ]
     },
     "metadata": {
      "needs_background": "light"
     },
     "output_type": "display_data"
    }
   ],
   "source": [
    "#run time ~1min for 1500x80000 image\n",
    "import cv2 as cv\n",
    "import numpy as np\n",
    "import matplotlib.pyplot as plt\n",
    "from skimage import feature\n",
    "from skimage.measure import regionprops\n",
    "import matplotlib.patches as mpatches\n",
    "from skimage.morphology import label\n",
    "import pandas as pd\n",
    "\n",
    "image = cv.imread(\"/home/rcardiff/ryan/ryan/test_files/combined_img.png\",0)\n",
    "image = image[10000:11000]\n",
    "edges = feature.canny(image, sigma=.5,\n",
    "                     low_threshold=193,\n",
    "                     high_threshold=225)\n",
    "\n",
    "\n",
    "# Label image regions.\n",
    "label_image = label(edges)\n",
    "print(len(regionprops(label_image)))\n",
    "\n",
    "fig, ax5 = plt.subplots(figsize=(14, 14))\n",
    "ax5.imshow(image, cmap=plt.cm.gray)\n",
    "ax5.axis('off')\n",
    "\n",
    "for region in regionprops(label_image):\n",
    "    # Draw rectangle around segmented coins.\n",
    "    minr, minc, maxr, maxc = region.bbox\n",
    "    # min_mz, min_rt, max_mz, max_rt = region.bbox\n",
    "    rect = mpatches.Rectangle((minc, minr),\n",
    "                              maxc - minc,\n",
    "                              maxr - minr,\n",
    "                              fill=False,\n",
    "                              edgecolor='red',\n",
    "                              linewidth=1)\n",
    "    ax5.add_patch(rect)\n",
    "    \n",
    "plt.tight_layout()\n",
    "plt.show()"
   ]
  },
  {
   "cell_type": "code",
   "execution_count": null,
   "metadata": {},
   "outputs": [],
   "source": [
    "#run time <1 min\n",
    "data = {'Feature':[],'min_mz':[],'max_mz':[],'mean_mz':[],'min_rt':[],'max_rt':[],'mean_rt':[]}\n",
    "df = pd.DataFrame(data)\n",
    "c = 0\n",
    "for region in regionprops(label_image):\n",
    "    min_mz, min_rt, max_mz, max_rt = region.bbox\n",
    "    r = pd.Series(['FT'+str(c), (min_mz/100), (max_mz/100), (np.mean([min_mz, max_mz])/100), min_rt*1.2, max_rt*1.2, np.mean([min_rt, max_rt])*1.2], index = ['Feature','min_mz','max_mz','mean_mz','min_rt','max_rt','mean_rt'])\n",
    "    df = df.append(r,ignore_index = True)\n",
    "    c+=1\n",
    "df.to_csv('/home/rcardiff/feature_test_1217-2.tsv', sep = '\\t')"
   ]
  },
  {
   "cell_type": "code",
   "execution_count": null,
   "metadata": {},
   "outputs": [],
   "source": [
    "image = cv.imread('/home/rcardiff/combined_img.png',0)\n",
    "fig, ax = plt.subplots(1, 1)\n",
    "ax.hist(image.ravel(), bins=8, range=[0, 256]) #ravel returns flattened 1d array\n",
    "ax.set_xlim(32, 193);\n",
    "ax.set_ylim(0,10)"
   ]
  },
  {
   "cell_type": "code",
   "execution_count": null,
   "metadata": {},
   "outputs": [],
   "source": []
  }
 ],
 "metadata": {
  "kernelspec": {
   "display_name": "Python 3",
   "language": "python",
   "name": "python3"
  },
  "language_info": {
   "codemirror_mode": {
    "name": "ipython",
    "version": 3
   },
   "file_extension": ".py",
   "mimetype": "text/x-python",
   "name": "python",
   "nbconvert_exporter": "python",
   "pygments_lexer": "ipython3",
   "version": "3.7.6"
  }
 },
 "nbformat": 4,
 "nbformat_minor": 4
}
